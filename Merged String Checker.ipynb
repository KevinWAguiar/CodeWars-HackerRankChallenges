{
 "cells": [
  {
   "cell_type": "code",
   "execution_count": 2,
   "metadata": {},
   "outputs": [],
   "source": [
    "s = 'codewars'\n",
    "\n",
    "part_1 = 'code'\n",
    "part_2 = 'wars'"
   ]
  },
  {
   "cell_type": "code",
   "execution_count": 7,
   "metadata": {},
   "outputs": [],
   "source": [
    "def letter_count_dict(x):\n",
    "    temp_dict = {}\n",
    "    \n",
    "    for i in x:\n",
    "        if i not in temp_dict.keys():\n",
    "            temp_dict[str(i)] = 1\n",
    "        else:\n",
    "            temp_dict[str(i)] += 1\n",
    "            \n",
    "    return temp_dict"
   ]
  },
  {
   "cell_type": "code",
   "execution_count": 10,
   "metadata": {},
   "outputs": [],
   "source": [
    "s_2 = 'cdeoraws'"
   ]
  },
  {
   "cell_type": "code",
   "execution_count": 12,
   "metadata": {
    "scrolled": true
   },
   "outputs": [
    {
     "data": {
      "text/plain": [
       "True"
      ]
     },
     "execution_count": 12,
     "metadata": {},
     "output_type": "execute_result"
    }
   ],
   "source": [
    "letter_count_dict(s) == letter_count_dict(s_2)"
   ]
  },
  {
   "cell_type": "code",
   "execution_count": null,
   "metadata": {},
   "outputs": [],
   "source": [
    "def is_merge(s, part1, part2):\n",
    "    \n",
    "    def letter_count_dict(x):\n",
    "        temp_dict = {}\n",
    "\n",
    "        for i in x:\n",
    "            if i not in temp_dict.keys():\n",
    "                temp_dict[str(i)] = 1\n",
    "            else:\n",
    "                temp_dict[str(i)] += 1\n",
    "\n",
    "        return temp_dict\n",
    "    \n",
    "    s_dict = letter_count_dict(s)\n",
    "    part1_dict = letter_count_dict(part1)\n",
    "    part2_dict = letter_count_dict(part2)\n",
    "    \n",
    "    for i in part1_dict.keys():\n",
    "        if i in part2_dict.keys():\n",
    "            part2_dict[i] += 1\n",
    "        else:\n",
    "            part2_dict[i] = 1\n",
    "            \n",
    "    if s_dict == part2_dict:\n",
    "        if part1 in s:\n",
    "            if part2 in s:\n",
    "                return True\n",
    "    else:\n",
    "        return False"
   ]
  },
  {
   "cell_type": "code",
   "execution_count": 13,
   "metadata": {},
   "outputs": [
    {
     "data": {
      "text/plain": [
       "False"
      ]
     },
     "execution_count": 13,
     "metadata": {},
     "output_type": "execute_result"
    }
   ],
   "source": [
    "'wasr' in 'codewars'"
   ]
  },
  {
   "cell_type": "code",
   "execution_count": null,
   "metadata": {},
   "outputs": [],
   "source": []
  }
 ],
 "metadata": {
  "kernelspec": {
   "display_name": "Python 3",
   "language": "python",
   "name": "python3"
  },
  "language_info": {
   "codemirror_mode": {
    "name": "ipython",
    "version": 3
   },
   "file_extension": ".py",
   "mimetype": "text/x-python",
   "name": "python",
   "nbconvert_exporter": "python",
   "pygments_lexer": "ipython3",
   "version": "3.6.5"
  }
 },
 "nbformat": 4,
 "nbformat_minor": 2
}
