{
 "cells": [
  {
   "cell_type": "markdown",
   "metadata": {},
   "source": [
    "# Solution:"
   ]
  },
  {
   "cell_type": "code",
   "execution_count": 80,
   "metadata": {},
   "outputs": [],
   "source": [
    "def solution(arg):\n",
    "    from itertools import groupby\n",
    "\n",
    "    temp_mast_list = []\n",
    "\n",
    "    for _, g in groupby(enumerate(arg), lambda i_x: i_x[0] - i_x[1]):\n",
    "        temp_mast_list.append([x for _, x in g])\n",
    "\n",
    "    final_string = \"\"\n",
    "\n",
    "    for l in temp_mast_list:\n",
    "        if len(l) == 1:\n",
    "            final_string += str(l[0]) + ','\n",
    "        elif len(l) == 2:\n",
    "            final_string += str(l[0]) + ',' + str(l[1]) + ','\n",
    "        else:\n",
    "            final_string += str(l[0]) + '-' + str(l[-1]) + ','\n",
    "    \n",
    "    end = len(final_string)\n",
    "    \n",
    "    final_string = final_string[:(end-1)]\n",
    "    return final_string"
   ]
  },
  {
   "cell_type": "code",
   "execution_count": null,
   "metadata": {},
   "outputs": [],
   "source": []
  },
  {
   "cell_type": "code",
   "execution_count": null,
   "metadata": {},
   "outputs": [],
   "source": []
  },
  {
   "cell_type": "code",
   "execution_count": 2,
   "metadata": {},
   "outputs": [],
   "source": [
    "def solution(args):\n",
    "    temp_list = []\n",
    "    for i in range(len(args)):\n",
    "        if args[(i+1)] == args[i] + 1:\n",
    "            temp_list.append(str(i) + '-')\n",
    "        else:\n",
    "            temp_list.append(str(i))\n",
    "    \n",
    "    \n",
    "    "
   ]
  },
  {
   "cell_type": "code",
   "execution_count": 3,
   "metadata": {},
   "outputs": [],
   "source": [
    "test = [-6, -3, -2, -1, 0, 1, 3, 4, 5, 7, 8, 9, 10, 11, 14, 15, 17, 18, 19, 20]"
   ]
  },
  {
   "cell_type": "code",
   "execution_count": 25,
   "metadata": {},
   "outputs": [
    {
     "data": {
      "text/plain": [
       "True"
      ]
     },
     "execution_count": 25,
     "metadata": {},
     "output_type": "execute_result"
    }
   ],
   "source": []
  },
  {
   "cell_type": "code",
   "execution_count": 28,
   "metadata": {},
   "outputs": [
    {
     "data": {
      "text/plain": [
       "20"
      ]
     },
     "execution_count": 28,
     "metadata": {},
     "output_type": "execute_result"
    }
   ],
   "source": [
    "test[19]"
   ]
  },
  {
   "cell_type": "code",
   "execution_count": 31,
   "metadata": {},
   "outputs": [
    {
     "data": {
      "text/plain": [
       "19"
      ]
     },
     "execution_count": 31,
     "metadata": {},
     "output_type": "execute_result"
    }
   ],
   "source": [
    "len(test) - 1"
   ]
  },
  {
   "cell_type": "code",
   "execution_count": 32,
   "metadata": {},
   "outputs": [
    {
     "data": {
      "text/plain": [
       "20"
      ]
     },
     "execution_count": 32,
     "metadata": {},
     "output_type": "execute_result"
    }
   ],
   "source": [
    "test[19]"
   ]
  },
  {
   "cell_type": "code",
   "execution_count": null,
   "metadata": {},
   "outputs": [],
   "source": []
  },
  {
   "cell_type": "code",
   "execution_count": 45,
   "metadata": {},
   "outputs": [
    {
     "data": {
      "text/plain": [
       "0"
      ]
     },
     "execution_count": 45,
     "metadata": {},
     "output_type": "execute_result"
    }
   ],
   "source": [
    "test.index(-6)"
   ]
  },
  {
   "cell_type": "code",
   "execution_count": 49,
   "metadata": {},
   "outputs": [],
   "source": [
    "from itertools import groupby"
   ]
  },
  {
   "cell_type": "code",
   "execution_count": 52,
   "metadata": {},
   "outputs": [],
   "source": [
    "temp_mast_list = []\n",
    "\n",
    "for _, g in groupby(enumerate(test), lambda i_x: i_x[0] - i_x[1]):\n",
    "    temp_mast_list.append([x for _, x in g])"
   ]
  },
  {
   "cell_type": "code",
   "execution_count": 83,
   "metadata": {},
   "outputs": [
    {
     "data": {
      "text/plain": [
       "'-6,-3-1,3-5,7-11,14,15,17-20'"
      ]
     },
     "execution_count": 83,
     "metadata": {},
     "output_type": "execute_result"
    }
   ],
   "source": [
    "solution(test)"
   ]
  },
  {
   "cell_type": "code",
   "execution_count": 65,
   "metadata": {},
   "outputs": [
    {
     "data": {
      "text/plain": [
       "'-6,-3-1,3-5,7-11,14-15,17-20,'"
      ]
     },
     "execution_count": 65,
     "metadata": {},
     "output_type": "execute_result"
    }
   ],
   "source": [
    "final_string"
   ]
  },
  {
   "cell_type": "code",
   "execution_count": null,
   "metadata": {},
   "outputs": [],
   "source": [
    "temp_list = []\n",
    "\n",
    "for i in range(len(test)):\n",
    "    try:\n",
    "        if (test[i] == test[(i+1)] - 1) & (test[i] == test[(i+2)] - 2):\n",
    "            anchor = test[i]\n",
    "            \n",
    "            consec = True\n",
    "            \n",
    "            while consec:\n",
    "                start_int = test.index(anchor)\n",
    "                remaining_num = test[start_int:]\n",
    "                \n",
    "                for x in range(len(remaining_num)):\n",
    "                    if remaining_num[x] == remaining_num[x+1] - 1:\n",
    "                        continue\n",
    "                    else:\n",
    "                        tail = remaining_num[x]\n",
    "                        \n",
    "                        temp_list.append(str(anchor) + '-' + str(tail))\n",
    "                        consec = False\n",
    "                        \n",
    "            \n",
    "        \n",
    "        else:\n",
    "            temp_list.append(str(test[i]))\n",
    "    \n",
    "    except IndexError:\n",
    "        print(temp_list)"
   ]
  },
  {
   "cell_type": "code",
   "execution_count": 44,
   "metadata": {},
   "outputs": [
    {
     "name": "stdout",
     "output_type": "stream",
     "text": [
      "['-6', '0', '1', '4', '5', '10', '11', '14', '15']\n",
      "['-6', '0', '1', '4', '5', '10', '11', '14', '15']\n"
     ]
    }
   ],
   "source": [
    "temp_list = []\n",
    "\n",
    "for i in range(len(test)):\n",
    "    try:\n",
    "        if (test[i] == test[(i+1)] - 1) & (test[i] == test[(i+2)] - 2):\n",
    "            anchor = test[i]\n",
    "        \n",
    "        else:\n",
    "            temp_list.append(str(test[i]))\n",
    "    except IndexError:\n",
    "        print(temp_list)"
   ]
  },
  {
   "cell_type": "code",
   "execution_count": 41,
   "metadata": {},
   "outputs": [
    {
     "name": "stdout",
     "output_type": "stream",
     "text": [
      "18\n",
      "[-6, 0, 1, 4, 5, 10, 11, 14, 15]\n",
      "18\n",
      "[-6, 0, 1, 4, 5, 10, 11, 14, 15]\n"
     ]
    }
   ],
   "source": [
    "temp_list = []\n",
    "\n",
    "for i in range(len(test)):\n",
    "    try:\n",
    "        if test[i] == (test[(i+2)] - 2):\n",
    "            anchor = test[i]\n",
    "            \n",
    "            consec = True\n",
    "        \n",
    "        else:\n",
    "            temp_list.append(test[i])\n",
    "    \n",
    "    except IndexError:\n",
    "        print(anchor)\n",
    "        print(temp_list)\n",
    "            \n",
    "            \n",
    "            "
   ]
  },
  {
   "cell_type": "code",
   "execution_count": 36,
   "metadata": {},
   "outputs": [
    {
     "name": "stdout",
     "output_type": "stream",
     "text": [
      "False\n",
      "True\n",
      "True\n",
      "True\n",
      "True\n",
      "False\n",
      "True\n",
      "True\n",
      "False\n",
      "True\n",
      "True\n",
      "True\n",
      "True\n",
      "False\n",
      "True\n",
      "False\n",
      "True\n",
      "True\n",
      "True\n",
      "end\n"
     ]
    }
   ],
   "source": [
    "for i in range(len(test)):\n",
    "    try:\n",
    "        print(test[i] == (test[(i+1)] - 1))\n",
    "    except IndexError:\n",
    "        print('end')"
   ]
  },
  {
   "cell_type": "code",
   "execution_count": null,
   "metadata": {},
   "outputs": [],
   "source": [
    "temp_list = []\n",
    "\n",
    "for i in range(len(test)):\n",
    "    try:\n",
    "        if "
   ]
  },
  {
   "cell_type": "code",
   "execution_count": 35,
   "metadata": {
    "scrolled": true
   },
   "outputs": [
    {
     "name": "stdout",
     "output_type": "stream",
     "text": [
      "False\n",
      "0\n",
      "False\n",
      "1\n",
      "False\n",
      "2\n",
      "False\n",
      "3\n",
      "False\n",
      "4\n",
      "False\n",
      "5\n",
      "False\n",
      "6\n",
      "False\n",
      "7\n",
      "False\n",
      "8\n",
      "False\n",
      "9\n",
      "False\n",
      "10\n",
      "False\n",
      "11\n",
      "False\n",
      "12\n",
      "False\n",
      "13\n",
      "False\n",
      "14\n",
      "False\n",
      "15\n",
      "False\n",
      "16\n",
      "False\n",
      "17\n",
      "False\n",
      "18\n",
      "end\n"
     ]
    }
   ],
   "source": [
    "empty_list = []\n",
    "x = 0\n",
    "\n",
    "for i in range(len(test)):\n",
    "    if i <= (len(test) - 2):\n",
    "        print(test[(i+1)] == test[i])\n",
    "        print(x)\n",
    "        x += 1\n",
    "    else:\n",
    "        print('end')"
   ]
  },
  {
   "cell_type": "code",
   "execution_count": 22,
   "metadata": {
    "scrolled": true
   },
   "outputs": [
    {
     "data": {
      "text/plain": [
       "False"
      ]
     },
     "execution_count": 22,
     "metadata": {},
     "output_type": "execute_result"
    }
   ],
   "source": [
    "test[0] == test[1] + 1"
   ]
  },
  {
   "cell_type": "code",
   "execution_count": 23,
   "metadata": {},
   "outputs": [
    {
     "data": {
      "text/plain": [
       "-5"
      ]
     },
     "execution_count": 23,
     "metadata": {},
     "output_type": "execute_result"
    }
   ],
   "source": [
    "test[0] + 1"
   ]
  },
  {
   "cell_type": "code",
   "execution_count": 9,
   "metadata": {
    "scrolled": true
   },
   "outputs": [
    {
     "data": {
      "text/plain": [
       "[17, 18, 19, 20]"
      ]
     },
     "execution_count": 9,
     "metadata": {},
     "output_type": "execute_result"
    }
   ],
   "source": [
    "test[16:]"
   ]
  },
  {
   "cell_type": "code",
   "execution_count": 10,
   "metadata": {},
   "outputs": [],
   "source": [
    "empty_list = []\n",
    "empty_list.append(str(17) + '-' + str(20))"
   ]
  },
  {
   "cell_type": "code",
   "execution_count": 11,
   "metadata": {},
   "outputs": [
    {
     "data": {
      "text/plain": [
       "['17-20']"
      ]
     },
     "execution_count": 11,
     "metadata": {},
     "output_type": "execute_result"
    }
   ],
   "source": [
    "empty_list"
   ]
  },
  {
   "cell_type": "code",
   "execution_count": null,
   "metadata": {},
   "outputs": [],
   "source": []
  }
 ],
 "metadata": {
  "kernelspec": {
   "display_name": "Python 3",
   "language": "python",
   "name": "python3"
  },
  "language_info": {
   "codemirror_mode": {
    "name": "ipython",
    "version": 3
   },
   "file_extension": ".py",
   "mimetype": "text/x-python",
   "name": "python",
   "nbconvert_exporter": "python",
   "pygments_lexer": "ipython3",
   "version": "3.6.5"
  }
 },
 "nbformat": 4,
 "nbformat_minor": 2
}
