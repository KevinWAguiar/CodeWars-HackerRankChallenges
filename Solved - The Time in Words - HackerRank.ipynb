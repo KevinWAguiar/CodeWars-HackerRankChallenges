{
 "cells": [
  {
   "cell_type": "markdown",
   "metadata": {},
   "source": [
    "# Solved - The Time in Words - HackerRank\n",
    "\n",
    "url:  https://www.hackerrank.com/challenges/the-time-in-words/problem?h_r=next-challenge&h_v=zen&h_r=next-challenge&h_v=zen&h_r=next-challenge&h_v=zen"
   ]
  },
  {
   "cell_type": "markdown",
   "metadata": {},
   "source": [
    "## My Response:"
   ]
  },
  {
   "cell_type": "code",
   "execution_count": null,
   "metadata": {},
   "outputs": [],
   "source": [
    "def timeInWords(h, m):\n",
    "    time_list = [\"zero\", \"one\", \"two\", \"three\", \"four\", \"five\", \"six\", \"seven\", \"eight\", \"nine\", \"ten\",\n",
    "        \"eleven\", \"twelve\", \"thirteen\", \"fourteen\", \"fifteen\", \"sixteen\", \"seventeen\", \"eighteen\", \"nineteen\",\n",
    "        \"twenty\", \"twenty one\", \"twenty two\", \"twenty three\", \"twenty four\", \"twenty five\",\n",
    "        \"twenty six\", \"twenty seven\",\"twenty eight\", \"twenty nine\"]\n",
    "    \n",
    "    if m == 0:\n",
    "        middle = \" o' clock\"\n",
    "        return time_list[h] + middle\n",
    "    elif m == 1:\n",
    "        return f'one minute past {time_list[h]}'\n",
    "    \n",
    "    elif m > 30:\n",
    "        middle = ' to '\n",
    "        hour = h + 1\n",
    "        hour = time_list[hour]\n",
    "    elif m < 30 and m != 15:\n",
    "        middle = ' minutes past '\n",
    "        hour = time_list[h]\n",
    "        minutes = time_list[m]\n",
    "        return minutes + middle + hour\n",
    "    \n",
    "    if m == 15:\n",
    "        return f'quarter past {time_list[h]}'\n",
    "    elif m == 45:\n",
    "        hour = h + 1\n",
    "        return f'quarter to {time_list[hour]}'\n",
    "    elif m == 30:\n",
    "        return f'half past {time_list[h]}'\n",
    "    elif m not in [15, 30, 45] and m > 30:\n",
    "        minutes = 60 - m\n",
    "        minutes = time_list[minutes]\n",
    "        return minutes + ' minutes' + middle + hour"
   ]
  },
  {
   "cell_type": "markdown",
   "metadata": {},
   "source": [
    "---"
   ]
  },
  {
   "cell_type": "markdown",
   "metadata": {},
   "source": [
    "## Best Practice:"
   ]
  },
  {
   "cell_type": "code",
   "execution_count": null,
   "metadata": {},
   "outputs": [],
   "source": []
  },
  {
   "cell_type": "markdown",
   "metadata": {},
   "source": [
    "---"
   ]
  },
  {
   "cell_type": "markdown",
   "metadata": {},
   "source": [
    "## Scrap Work:"
   ]
  },
  {
   "cell_type": "code",
   "execution_count": 2,
   "metadata": {},
   "outputs": [
    {
     "name": "stdout",
     "output_type": "stream",
     "text": [
      "Collecting inflect\n",
      "\u001b[?25l  Downloading https://files.pythonhosted.org/packages/86/02/e6b11020a9c37d25b4767a1d0af5835629f6e75d6f51553ad07a4c73dc31/inflect-2.1.0-py2.py3-none-any.whl (40kB)\n",
      "\u001b[K    100% |████████████████████████████████| 51kB 973kB/s ta 0:00:01\n",
      "\u001b[?25hInstalling collected packages: inflect\n",
      "Successfully installed inflect-2.1.0\n"
     ]
    }
   ],
   "source": [
    "! pip install inflect"
   ]
  },
  {
   "cell_type": "code",
   "execution_count": 25,
   "metadata": {},
   "outputs": [],
   "source": [
    "def timeInWords(h, m):\n",
    "    import inflect\n",
    "    machine = inflect.engine()\n",
    "    \n",
    "    if m == 0:\n",
    "        middle = \" o' clock\"\n",
    "        print(machine.number_to_words(h) + middle)\n",
    "    elif m == 1:\n",
    "        print(f'one minute past {machine.number_to_words(h)}')\n",
    "    \n",
    "    elif m > 30:\n",
    "        middle = ' to '\n",
    "        hour = h + 1\n",
    "        hour = machine.number_to_words(hour)\n",
    "    else:\n",
    "        middle = ' past '\n",
    "        hour = machine.number_to_words(h)\n",
    "        minutes = machine.number_to_words(m).replace(\"-\", \" \")\n",
    "        print(minutes + middle + hour)\n",
    "    \n",
    "    if m == 15:\n",
    "        print(f'quarter past {machine.number_to_words(h)}')\n",
    "    elif m == 45:\n",
    "        hour = h + 1\n",
    "        hour = machine.number_to_words(hour)\n",
    "        print(f'quarter to {hour}')\n",
    "    elif m == 30:\n",
    "        print(f'half past {machine.number_to_words(h)}')\n",
    "    elif m not in [15, 30, 45] and m > 30:\n",
    "        minutes = 60 - m\n",
    "        minutes = machine.number_to_words(minutes).replace('-', ' ')\n",
    "        print(minutes + ' minutes' + middle + hour)"
   ]
  },
  {
   "cell_type": "code",
   "execution_count": 21,
   "metadata": {},
   "outputs": [
    {
     "name": "stdout",
     "output_type": "stream",
     "text": [
      "one minute past five\n"
     ]
    }
   ],
   "source": [
    "timeInWords(5, 1)"
   ]
  },
  {
   "cell_type": "code",
   "execution_count": 22,
   "metadata": {},
   "outputs": [
    {
     "name": "stdout",
     "output_type": "stream",
     "text": [
      "thirteen minutes to six\n"
     ]
    }
   ],
   "source": [
    "timeInWords(5, 47)"
   ]
  },
  {
   "cell_type": "code",
   "execution_count": 23,
   "metadata": {},
   "outputs": [
    {
     "name": "stdout",
     "output_type": "stream",
     "text": [
      "half past seven\n"
     ]
    }
   ],
   "source": [
    "timeInWords(7, 30)"
   ]
  },
  {
   "cell_type": "code",
   "execution_count": 24,
   "metadata": {},
   "outputs": [
    {
     "name": "stdout",
     "output_type": "stream",
     "text": [
      "quarter to four\n"
     ]
    }
   ],
   "source": [
    "timeInWords(3, 45)"
   ]
  },
  {
   "cell_type": "code",
   "execution_count": 26,
   "metadata": {},
   "outputs": [
    {
     "name": "stdout",
     "output_type": "stream",
     "text": [
      "twelve past one\n"
     ]
    }
   ],
   "source": [
    "timeInWords(1, 12)"
   ]
  },
  {
   "cell_type": "code",
   "execution_count": 60,
   "metadata": {},
   "outputs": [],
   "source": [
    "def timeInWords(h, m):\n",
    "    time_list = [\"zero\", \"one\", \"two\", \"three\", \"four\", \"five\", \"six\", \"seven\", \"eight\", \"nine\", \"ten\",\n",
    "        \"eleven\", \"twelve\", \"thirteen\", \"fourteen\", \"fifteen\", \"sixteen\", \"seventeen\", \"eighteen\", \"nineteen\",\n",
    "        \"twenty\", \"twenty one\", \"twenty two\", \"twenty three\", \"twenty four\", \"twenty five\",\n",
    "        \"twenty six\", \"twenty seven\",\"twenty eight\", \"twenty nine\"]\n",
    "    \n",
    "    if m == 0:\n",
    "        middle = \" o' clock\"\n",
    "        return time_list[h] + middle\n",
    "    elif m == 1:\n",
    "        return f'one minute past {time_list[h]}'\n",
    "    \n",
    "    elif m > 30:\n",
    "        middle = ' to '\n",
    "        hour = h + 1\n",
    "        hour = time_list[hour]\n",
    "    elif m < 30 and m != 15:\n",
    "        middle = ' minutes past '\n",
    "        hour = time_list[h]\n",
    "        minutes = time_list[m]\n",
    "        return minutes + middle + hour\n",
    "    \n",
    "    if m == 15:\n",
    "        return f'quarter past {time_list[h]}'\n",
    "    elif m == 45:\n",
    "        hour = h + 1\n",
    "        return f'quarter to {time_list[hour]}'\n",
    "    elif m == 30:\n",
    "        return f'half past {time_list[h]}'\n",
    "    elif m not in [15, 30, 45] and m > 30:\n",
    "        minutes = 60 - m\n",
    "        minutes = time_list[minutes]\n",
    "        return minutes + ' minutes' + middle + hour"
   ]
  },
  {
   "cell_type": "code",
   "execution_count": 61,
   "metadata": {},
   "outputs": [
    {
     "data": {
      "text/plain": [
       "'quarter to four'"
      ]
     },
     "execution_count": 61,
     "metadata": {},
     "output_type": "execute_result"
    }
   ],
   "source": [
    "\n",
    "timeInWords(3, 45)"
   ]
  },
  {
   "cell_type": "code",
   "execution_count": 62,
   "metadata": {},
   "outputs": [
    {
     "data": {
      "text/plain": [
       "'three minutes to five'"
      ]
     },
     "execution_count": 62,
     "metadata": {},
     "output_type": "execute_result"
    }
   ],
   "source": [
    "timeInWords(4, 57)"
   ]
  },
  {
   "cell_type": "code",
   "execution_count": 63,
   "metadata": {},
   "outputs": [
    {
     "data": {
      "text/plain": [
       "'half past three'"
      ]
     },
     "execution_count": 63,
     "metadata": {},
     "output_type": "execute_result"
    }
   ],
   "source": [
    "timeInWords(3, 30)"
   ]
  },
  {
   "cell_type": "code",
   "execution_count": 64,
   "metadata": {},
   "outputs": [
    {
     "data": {
      "text/plain": [
       "'twenty nine minutes past seven'"
      ]
     },
     "execution_count": 64,
     "metadata": {},
     "output_type": "execute_result"
    }
   ],
   "source": [
    "timeInWords(7, 29)"
   ]
  },
  {
   "cell_type": "code",
   "execution_count": null,
   "metadata": {},
   "outputs": [],
   "source": []
  },
  {
   "cell_type": "code",
   "execution_count": null,
   "metadata": {},
   "outputs": [],
   "source": []
  },
  {
   "cell_type": "code",
   "execution_count": null,
   "metadata": {},
   "outputs": [],
   "source": []
  },
  {
   "cell_type": "code",
   "execution_count": 31,
   "metadata": {},
   "outputs": [],
   "source": [
    "time_list = [\"zero\", \"one\", \"two\", \"three\", \"four\", \"five\", \"six\", \"seven\", \"eight\", \"nine\", \"ten\",\n",
    "        \"eleven\", \"twelve\", \"thirteen\", \"fourteen\", \"fifteen\", \"sixteen\", \"seventeen\", \"eighteen\", \"nineteen\",\n",
    "        \"twenty\", \"twenty one\", \"twenty two\", \"twenty three\", \"twenty four\", \"twenty five\",\n",
    "        \"twenty six\", \"twenty seven\",\"twenty eight\", \"twenty nine\"]"
   ]
  },
  {
   "cell_type": "code",
   "execution_count": 32,
   "metadata": {},
   "outputs": [
    {
     "data": {
      "text/plain": [
       "'twenty nine'"
      ]
     },
     "execution_count": 32,
     "metadata": {},
     "output_type": "execute_result"
    }
   ],
   "source": [
    "time_list[29]"
   ]
  },
  {
   "cell_type": "code",
   "execution_count": null,
   "metadata": {},
   "outputs": [],
   "source": []
  }
 ],
 "metadata": {
  "kernelspec": {
   "display_name": "Python 3",
   "language": "python",
   "name": "python3"
  },
  "language_info": {
   "codemirror_mode": {
    "name": "ipython",
    "version": 3
   },
   "file_extension": ".py",
   "mimetype": "text/x-python",
   "name": "python",
   "nbconvert_exporter": "python",
   "pygments_lexer": "ipython3",
   "version": "3.6.5"
  }
 },
 "nbformat": 4,
 "nbformat_minor": 2
}
