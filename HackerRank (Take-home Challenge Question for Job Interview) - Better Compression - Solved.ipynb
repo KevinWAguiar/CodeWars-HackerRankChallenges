{
 "cells": [
  {
   "cell_type": "markdown",
   "metadata": {},
   "source": [
    "# Better Compression\n",
    "\n",
    "url:  www.url.goeshere"
   ]
  },
  {
   "cell_type": "markdown",
   "metadata": {},
   "source": [
    "## My Response:"
   ]
  },
  {
   "cell_type": "code",
   "execution_count": 55,
   "metadata": {},
   "outputs": [],
   "source": [
    "def betterCompression(test):\n",
    "    import re\n",
    "    import string\n",
    "    \n",
    "    # Make a list of the letters in the test string:\n",
    "    letters = re.split('\\d+', test)\n",
    "    letters.remove(\"\")\n",
    "    \n",
    "    # Make a list of the numbers in the test string:\n",
    "    numbers = re.split('[a-zA-Z]', test)\n",
    "    numbers.remove(\"\")\n",
    "    \n",
    "    # For loop through letter, number to make dictionary of the\n",
    "    # the letter and its count as a key, value pair:\n",
    "    temp_dict ={}\n",
    "    for l, n in zip(letters, numbers):\n",
    "        if l in temp_dict.keys():\n",
    "            temp_dict[l] += int(n)\n",
    "        else:\n",
    "            temp_dict[l] = int(n)\n",
    "    \n",
    "    # Alphabetize the dictionary:\n",
    "    alph_temp_dict = {}\n",
    "    \n",
    "    for l in string.ascii_lowercase:\n",
    "        if l in temp_dict.keys():\n",
    "            alph_temp_dict[l] = int(temp_dict[l])\n",
    "        else:\n",
    "            continue\n",
    "            \n",
    "    # Concatenate the key, value pairs into one string:\n",
    "    temp_string = \"\"\n",
    "    \n",
    "    for k in alph_temp_dict.keys():\n",
    "        temp_string += str(k)\n",
    "        temp_string += str(temp_dict[k])\n",
    "        \n",
    "    # Return the corrected,\"better\" compression string:    \n",
    "    return temp_string\n",
    "        "
   ]
  },
  {
   "cell_type": "code",
   "execution_count": 56,
   "metadata": {},
   "outputs": [
    {
     "data": {
      "text/plain": [
       "'a13b5c56'"
      ]
     },
     "execution_count": 56,
     "metadata": {},
     "output_type": "execute_result"
    }
   ],
   "source": [
    "betterCompression('a12c56a1b5')"
   ]
  },
  {
   "cell_type": "code",
   "execution_count": 52,
   "metadata": {},
   "outputs": [
    {
     "data": {
      "text/plain": [
       "{'a': 32, 'b': 2, 'c': 10}"
      ]
     },
     "execution_count": 52,
     "metadata": {},
     "output_type": "execute_result"
    }
   ],
   "source": [
    "betterCompression('a32c9b2c1')"
   ]
  },
  {
   "cell_type": "code",
   "execution_count": 57,
   "metadata": {},
   "outputs": [
    {
     "data": {
      "text/plain": [
       "'a32b2c10'"
      ]
     },
     "execution_count": 57,
     "metadata": {},
     "output_type": "execute_result"
    }
   ],
   "source": [
    "betterCompression('a32c9b2c1')"
   ]
  },
  {
   "cell_type": "code",
   "execution_count": null,
   "metadata": {},
   "outputs": [],
   "source": []
  },
  {
   "cell_type": "code",
   "execution_count": null,
   "metadata": {},
   "outputs": [],
   "source": []
  },
  {
   "cell_type": "code",
   "execution_count": null,
   "metadata": {},
   "outputs": [],
   "source": []
  },
  {
   "cell_type": "markdown",
   "metadata": {},
   "source": [
    "---"
   ]
  },
  {
   "cell_type": "markdown",
   "metadata": {},
   "source": [
    "## Best Practice:"
   ]
  },
  {
   "cell_type": "code",
   "execution_count": null,
   "metadata": {},
   "outputs": [],
   "source": []
  },
  {
   "cell_type": "markdown",
   "metadata": {},
   "source": [
    "---"
   ]
  },
  {
   "cell_type": "markdown",
   "metadata": {},
   "source": [
    "## Scrap Work:"
   ]
  },
  {
   "cell_type": "code",
   "execution_count": 99,
   "metadata": {},
   "outputs": [],
   "source": [
    "example = 'a12c56a1b5'"
   ]
  },
  {
   "cell_type": "code",
   "execution_count": 102,
   "metadata": {},
   "outputs": [
    {
     "data": {
      "text/plain": [
       "2"
      ]
     },
     "execution_count": 102,
     "metadata": {},
     "output_type": "execute_result"
    }
   ],
   "source": [
    "example.count('a')"
   ]
  },
  {
   "cell_type": "code",
   "execution_count": 107,
   "metadata": {},
   "outputs": [
    {
     "name": "stdout",
     "output_type": "stream",
     "text": [
      "[3]\n",
      "['12', '56', '1', '5']\n",
      "[3]\n",
      "[3]\n",
      "['12', '56', '1', '5']\n",
      "[3]\n"
     ]
    },
    {
     "data": {
      "text/plain": [
       "'a5b5c56'"
      ]
     },
     "execution_count": 107,
     "metadata": {},
     "output_type": "execute_result"
    }
   ],
   "source": [
    "temp_list1 = []\n",
    "\n",
    "[temp_list1.append(i) for i in example if i in string.ascii_letters]\n",
    "\n",
    "temp_list2 = re.findall('\\d+', example)\n",
    "\n",
    "temp_dict = {}\n",
    "\n",
    "for l in temp_list1:\n",
    "    if temp_list1.count(str(l)) == 1:\n",
    "        temp_dict[l] = int(temp_list2[(temp_list1.index(l))])\n",
    "    else:\n",
    "        tot_val = 0\n",
    "        for d in temp_list1:\n",
    "            indices = [i for i, x in enumerate(temp_list1) if x == d]\n",
    "        print(indices)\n",
    "        \n",
    "        value=0\n",
    "        for t in indices:\n",
    "            value += int(temp_list2[t])\n",
    "            print(temp_list2)\n",
    "            print(indices)\n",
    "        \n",
    "        temp_dict[l] = int(value)\n",
    "        \n",
    "temp_string = \"\"\n",
    "\n",
    "for i in string.ascii_letters:\n",
    "    if i in temp_dict.keys():\n",
    "        temp_string += str(i)\n",
    "        temp_string += str(temp_dict[i])\n",
    "    else:\n",
    "        continue\n",
    "\n",
    "temp_string\n",
    "        "
   ]
  },
  {
   "cell_type": "code",
   "execution_count": 93,
   "metadata": {},
   "outputs": [
    {
     "data": {
      "text/plain": [
       "{'a': 32, 'c': 10, 'b': 2}"
      ]
     },
     "execution_count": 93,
     "metadata": {},
     "output_type": "execute_result"
    }
   ],
   "source": [
    "temp_dict"
   ]
  },
  {
   "cell_type": "code",
   "execution_count": 76,
   "metadata": {},
   "outputs": [
    {
     "data": {
      "text/plain": [
       "['a', 'c', 'b', 'c']"
      ]
     },
     "execution_count": 76,
     "metadata": {},
     "output_type": "execute_result"
    }
   ],
   "source": [
    "temp_list1"
   ]
  },
  {
   "cell_type": "code",
   "execution_count": 77,
   "metadata": {},
   "outputs": [
    {
     "data": {
      "text/plain": [
       "[1, 3]"
      ]
     },
     "execution_count": 77,
     "metadata": {},
     "output_type": "execute_result"
    }
   ],
   "source": [
    "for d in temp_list1:\n",
    "    if temp_list1.count(str(d)) > 1:\n",
    "        indices = [i for i, x in enumerate(temp_list1) if x == d]\n",
    "indices"
   ]
  },
  {
   "cell_type": "code",
   "execution_count": null,
   "metadata": {},
   "outputs": [],
   "source": [
    "indices = [i for i, x in enumerate(temp_list1) if x == d]"
   ]
  },
  {
   "cell_type": "code",
   "execution_count": 72,
   "metadata": {},
   "outputs": [
    {
     "name": "stdout",
     "output_type": "stream",
     "text": [
      "a\n",
      "b\n"
     ]
    }
   ],
   "source": [
    "temp_list1 = []\n",
    "\n",
    "for i in example:\n",
    "    if i in string.ascii_letters:\n",
    "        temp_list1.append(i)\n",
    "        \n",
    "temp_list1\n",
    "\n",
    "temp_list2 = re.findall('\\d+', example)\n",
    "\n",
    "temp_dict = {}\n",
    "\n",
    "for i in temp_list1:\n",
    "    if temp_list1.count(i) > 1:\n",
    "        print('THIS')\n",
    "    if i not in temp_dict.keys():\n",
    "        temp_dict[i] = temp_list2[(temp_list1.index(i))]\n",
    "        temp_list1.remove(i)\n",
    "        print(i)\n",
    "        #temp_list1.pop(temp_list1.index(i))\n",
    "    else:\n",
    "        temp_dict[i] += temp_list2[(temp_list1.index(i))]"
   ]
  },
  {
   "cell_type": "code",
   "execution_count": 69,
   "metadata": {},
   "outputs": [
    {
     "data": {
      "text/plain": [
       "{'a': '32', 'b': '9'}"
      ]
     },
     "execution_count": 69,
     "metadata": {},
     "output_type": "execute_result"
    }
   ],
   "source": [
    "temp_dict"
   ]
  },
  {
   "cell_type": "code",
   "execution_count": 67,
   "metadata": {},
   "outputs": [
    {
     "data": {
      "text/plain": [
       "['c', 'c']"
      ]
     },
     "execution_count": 67,
     "metadata": {},
     "output_type": "execute_result"
    }
   ],
   "source": [
    "temp_list1"
   ]
  },
  {
   "cell_type": "code",
   "execution_count": 54,
   "metadata": {},
   "outputs": [
    {
     "data": {
      "text/plain": [
       "['32', '9', '2', '1']"
      ]
     },
     "execution_count": 54,
     "metadata": {},
     "output_type": "execute_result"
    }
   ],
   "source": [
    "temp_list2"
   ]
  },
  {
   "cell_type": "code",
   "execution_count": 13,
   "metadata": {},
   "outputs": [],
   "source": [
    "example = 'a32c9b2c1'"
   ]
  },
  {
   "cell_type": "code",
   "execution_count": 3,
   "metadata": {},
   "outputs": [
    {
     "data": {
      "text/plain": [
       "'3'"
      ]
     },
     "execution_count": 3,
     "metadata": {},
     "output_type": "execute_result"
    }
   ],
   "source": [
    "example[1]"
   ]
  },
  {
   "cell_type": "code",
   "execution_count": 2,
   "metadata": {},
   "outputs": [],
   "source": [
    "import string"
   ]
  },
  {
   "cell_type": "code",
   "execution_count": 8,
   "metadata": {},
   "outputs": [
    {
     "data": {
      "text/plain": [
       "['a3c9b2c1']"
      ]
     },
     "execution_count": 8,
     "metadata": {},
     "output_type": "execute_result"
    }
   ],
   "source": [
    "example.split('(\\\\D)')"
   ]
  },
  {
   "cell_type": "code",
   "execution_count": null,
   "metadata": {},
   "outputs": [],
   "source": []
  },
  {
   "cell_type": "code",
   "execution_count": 10,
   "metadata": {},
   "outputs": [
    {
     "data": {
      "text/plain": [
       "['a', 'c', 'b', 'c']"
      ]
     },
     "execution_count": 10,
     "metadata": {},
     "output_type": "execute_result"
    }
   ],
   "source": [
    "temp_list1 = []\n",
    "for i in example:\n",
    "    if i in string.ascii_letters:\n",
    "        temp_list1.append(i)\n",
    "        \n",
    "temp_list1\n",
    "        "
   ]
  },
  {
   "cell_type": "code",
   "execution_count": 26,
   "metadata": {},
   "outputs": [
    {
     "data": {
      "text/plain": [
       "1"
      ]
     },
     "execution_count": 26,
     "metadata": {},
     "output_type": "execute_result"
    }
   ],
   "source": [
    "temp_list1.index('c')"
   ]
  },
  {
   "cell_type": "code",
   "execution_count": 14,
   "metadata": {},
   "outputs": [],
   "source": [
    "temp_list2 = []\n",
    "\n",
    "for i in example:\n",
    "    if i.isdigit():\n",
    "        temp_list2.append(i)"
   ]
  },
  {
   "cell_type": "code",
   "execution_count": 15,
   "metadata": {},
   "outputs": [
    {
     "data": {
      "text/plain": [
       "['3', '2', '9', '2', '1']"
      ]
     },
     "execution_count": 15,
     "metadata": {},
     "output_type": "execute_result"
    }
   ],
   "source": [
    "temp_list2"
   ]
  },
  {
   "cell_type": "code",
   "execution_count": 16,
   "metadata": {},
   "outputs": [
    {
     "data": {
      "text/plain": [
       "[]"
      ]
     },
     "execution_count": 16,
     "metadata": {},
     "output_type": "execute_result"
    }
   ],
   "source": [
    "[int(s) for s in example.split() if s.isdigit()]"
   ]
  },
  {
   "cell_type": "code",
   "execution_count": 17,
   "metadata": {},
   "outputs": [
    {
     "data": {
      "text/plain": [
       "['a32c9b2c1']"
      ]
     },
     "execution_count": 17,
     "metadata": {},
     "output_type": "execute_result"
    }
   ],
   "source": [
    "example.split()"
   ]
  },
  {
   "cell_type": "code",
   "execution_count": 20,
   "metadata": {},
   "outputs": [
    {
     "data": {
      "text/plain": [
       "'a32c9b2c1'"
      ]
     },
     "execution_count": 20,
     "metadata": {},
     "output_type": "execute_result"
    }
   ],
   "source": [
    "example"
   ]
  },
  {
   "cell_type": "code",
   "execution_count": 21,
   "metadata": {},
   "outputs": [],
   "source": [
    "import re"
   ]
  },
  {
   "cell_type": "code",
   "execution_count": 23,
   "metadata": {},
   "outputs": [
    {
     "data": {
      "text/plain": [
       "['32', '9', '2', '1']"
      ]
     },
     "execution_count": 23,
     "metadata": {},
     "output_type": "execute_result"
    }
   ],
   "source": [
    "re.findall('\\d+', example)"
   ]
  },
  {
   "cell_type": "markdown",
   "metadata": {},
   "source": [
    "---"
   ]
  },
  {
   "cell_type": "code",
   "execution_count": 48,
   "metadata": {},
   "outputs": [],
   "source": [
    "def betterCompression(test):\n",
    "    import re\n",
    "    import string\n",
    "    \n",
    "    letters = re.split('\\d+', test)\n",
    "    letters.remove(\"\")\n",
    "    \n",
    "    numbers = re.split('[a-zA-Z]', test)\n",
    "    numbers.remove(\"\")\n",
    "    \n",
    "    temp_dict ={}\n",
    "    for l, n in zip(letters, numbers):\n",
    "        if l in temp_dict.keys():\n",
    "            temp_dict[l] += int(n)\n",
    "        else:\n",
    "            temp_dict[l] = int(n)\n",
    "            \n",
    "    alph_temp_dict = {}\n",
    "    \n",
    "    for l in string.ascii_lowercase:\n",
    "        if l in temp_dict.keys():\n",
    "            alph_temp_dict[l] = int(temp_dict[l])\n",
    "        else:\n",
    "            continue\n",
    "    return alph_temp_dict\n",
    "    "
   ]
  },
  {
   "cell_type": "code",
   "execution_count": 49,
   "metadata": {},
   "outputs": [
    {
     "data": {
      "text/plain": [
       "{'a': 32, 'b': 2, 'c': 10}"
      ]
     },
     "execution_count": 49,
     "metadata": {},
     "output_type": "execute_result"
    }
   ],
   "source": [
    "betterCompression('a32c9b2c1')"
   ]
  },
  {
   "cell_type": "code",
   "execution_count": null,
   "metadata": {},
   "outputs": [],
   "source": []
  },
  {
   "cell_type": "code",
   "execution_count": 2,
   "metadata": {},
   "outputs": [],
   "source": [
    "import re\n",
    "\n",
    "numbers = re.split('[a-zA-Z]')\n",
    "\n",
    "temp_dict ={}\n",
    "for l, n in zip(letters, numbers):\n",
    "    if l in temp_dict.keys():\n",
    "        temp_dict[l] += int(n)\n",
    "    else:\n",
    "        temp_dict[l] = int(n)"
   ]
  },
  {
   "cell_type": "code",
   "execution_count": 3,
   "metadata": {},
   "outputs": [],
   "source": [
    "example = 'a12c56a1b5'"
   ]
  },
  {
   "cell_type": "code",
   "execution_count": 22,
   "metadata": {},
   "outputs": [],
   "source": [
    "numbers = re.split('[a-zA-Z]', example)"
   ]
  },
  {
   "cell_type": "code",
   "execution_count": 23,
   "metadata": {},
   "outputs": [
    {
     "data": {
      "text/plain": [
       "['', '12', '56', '1', '5']"
      ]
     },
     "execution_count": 23,
     "metadata": {},
     "output_type": "execute_result"
    }
   ],
   "source": [
    "numbers"
   ]
  },
  {
   "cell_type": "code",
   "execution_count": 24,
   "metadata": {},
   "outputs": [],
   "source": [
    "numbers.remove(\"\")"
   ]
  },
  {
   "cell_type": "code",
   "execution_count": 25,
   "metadata": {},
   "outputs": [
    {
     "data": {
      "text/plain": [
       "['12', '56', '1', '5']"
      ]
     },
     "execution_count": 25,
     "metadata": {},
     "output_type": "execute_result"
    }
   ],
   "source": [
    "numbers"
   ]
  },
  {
   "cell_type": "code",
   "execution_count": 26,
   "metadata": {},
   "outputs": [],
   "source": [
    "letters = re.split('\\d+', example)"
   ]
  },
  {
   "cell_type": "code",
   "execution_count": 27,
   "metadata": {},
   "outputs": [],
   "source": [
    "letters.remove(\"\")"
   ]
  },
  {
   "cell_type": "code",
   "execution_count": 30,
   "metadata": {},
   "outputs": [
    {
     "data": {
      "text/plain": [
       "['a', 'c', 'a', 'b']"
      ]
     },
     "execution_count": 30,
     "metadata": {},
     "output_type": "execute_result"
    }
   ],
   "source": [
    "letters"
   ]
  },
  {
   "cell_type": "code",
   "execution_count": 32,
   "metadata": {},
   "outputs": [
    {
     "data": {
      "text/plain": [
       "['a', 'c', 'a', 'b']"
      ]
     },
     "execution_count": 32,
     "metadata": {},
     "output_type": "execute_result"
    }
   ],
   "source": [
    "letters"
   ]
  },
  {
   "cell_type": "code",
   "execution_count": 33,
   "metadata": {},
   "outputs": [
    {
     "data": {
      "text/plain": [
       "['12', '56', '1', '5']"
      ]
     },
     "execution_count": 33,
     "metadata": {},
     "output_type": "execute_result"
    }
   ],
   "source": [
    "numbers"
   ]
  },
  {
   "cell_type": "code",
   "execution_count": 35,
   "metadata": {},
   "outputs": [
    {
     "name": "stdout",
     "output_type": "stream",
     "text": [
      "a 12\n",
      "c 56\n",
      "a 1\n",
      "b 5\n"
     ]
    }
   ],
   "source": [
    "for i, x in zip(letters, numbers):\n",
    "    print(i, x)"
   ]
  },
  {
   "cell_type": "code",
   "execution_count": 38,
   "metadata": {},
   "outputs": [],
   "source": [
    "temp_dict ={}\n",
    "for l, n in zip(letters, numbers):\n",
    "    if l in temp_dict.keys():\n",
    "        temp_dict[l] += int(n)\n",
    "    else:\n",
    "        temp_dict[l] = int(n)"
   ]
  },
  {
   "cell_type": "code",
   "execution_count": 39,
   "metadata": {},
   "outputs": [
    {
     "data": {
      "text/plain": [
       "{'a': 13, 'c': 56, 'b': 5}"
      ]
     },
     "execution_count": 39,
     "metadata": {},
     "output_type": "execute_result"
    }
   ],
   "source": [
    "temp_dict"
   ]
  },
  {
   "cell_type": "code",
   "execution_count": null,
   "metadata": {},
   "outputs": [],
   "source": []
  },
  {
   "cell_type": "code",
   "execution_count": null,
   "metadata": {},
   "outputs": [],
   "source": []
  },
  {
   "cell_type": "code",
   "execution_count": null,
   "metadata": {},
   "outputs": [],
   "source": []
  },
  {
   "cell_type": "code",
   "execution_count": null,
   "metadata": {},
   "outputs": [],
   "source": []
  },
  {
   "cell_type": "code",
   "execution_count": null,
   "metadata": {},
   "outputs": [],
   "source": []
  },
  {
   "cell_type": "code",
   "execution_count": null,
   "metadata": {},
   "outputs": [],
   "source": []
  },
  {
   "cell_type": "code",
   "execution_count": null,
   "metadata": {},
   "outputs": [],
   "source": [
    "def betterCompression(string):\n",
    "    import re\n",
    "    \n",
    "    numbers = re.split('[a-zA-Z]', string)\n",
    "    numbers.remove(\"\")\n",
    "    \n",
    "    letters = re.split('\\d+', string)\n",
    "    letters.remove(\"\")\n",
    "    \n",
    "    "
   ]
  },
  {
   "cell_type": "code",
   "execution_count": null,
   "metadata": {},
   "outputs": [],
   "source": []
  },
  {
   "cell_type": "code",
   "execution_count": null,
   "metadata": {},
   "outputs": [],
   "source": []
  }
 ],
 "metadata": {
  "kernelspec": {
   "display_name": "Python 3",
   "language": "python",
   "name": "python3"
  },
  "language_info": {
   "codemirror_mode": {
    "name": "ipython",
    "version": 3
   },
   "file_extension": ".py",
   "mimetype": "text/x-python",
   "name": "python",
   "nbconvert_exporter": "python",
   "pygments_lexer": "ipython3",
   "version": "3.6.5"
  }
 },
 "nbformat": 4,
 "nbformat_minor": 2
}
