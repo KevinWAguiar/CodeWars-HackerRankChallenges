{
 "cells": [
  {
   "cell_type": "markdown",
   "metadata": {},
   "source": [
    "# Make the Deadfish Swim\n",
    "\n",
    "https://www.codewars.com/kata/make-the-deadfish-swim/train/python\n"
   ]
  },
  {
   "cell_type": "markdown",
   "metadata": {},
   "source": [
    "## My Response:"
   ]
  },
  {
   "cell_type": "code",
   "execution_count": null,
   "metadata": {},
   "outputs": [],
   "source": [
    "def parse(data):\n",
    "    value = []\n",
    "    count = 0\n",
    "\n",
    "    for i in data:\n",
    "        if i == 'o':\n",
    "            value.append(count)\n",
    "\n",
    "        elif i == 's':\n",
    "            count = count ** 2\n",
    "\n",
    "        elif i == 'd':\n",
    "            count -= 1\n",
    "\n",
    "        elif i == 'i':\n",
    "            count += 1\n",
    "\n",
    "        else:\n",
    "            continue\n",
    "\n",
    "    return value"
   ]
  },
  {
   "cell_type": "markdown",
   "metadata": {},
   "source": [
    "---"
   ]
  },
  {
   "cell_type": "markdown",
   "metadata": {},
   "source": [
    "## Best Practice:"
   ]
  },
  {
   "cell_type": "code",
   "execution_count": null,
   "metadata": {},
   "outputs": [],
   "source": [
    "def parse(data):\n",
    "    value = 0\n",
    "    res=[]\n",
    "    for c in data:\n",
    "        if c==\"i\": value+=1\n",
    "        elif c==\"d\": value-=1\n",
    "        elif c==\"s\": value*=value\n",
    "        elif c==\"o\": res.append(value)\n",
    "    return res"
   ]
  },
  {
   "cell_type": "markdown",
   "metadata": {},
   "source": [
    "---"
   ]
  },
  {
   "cell_type": "markdown",
   "metadata": {},
   "source": [
    "## Scrap Work:"
   ]
  },
  {
   "cell_type": "code",
   "execution_count": 1,
   "metadata": {},
   "outputs": [],
   "source": [
    "data = \"ooo\""
   ]
  },
  {
   "cell_type": "code",
   "execution_count": 3,
   "metadata": {},
   "outputs": [],
   "source": [
    "data = \"ioioio\""
   ]
  },
  {
   "cell_type": "code",
   "execution_count": 4,
   "metadata": {},
   "outputs": [
    {
     "data": {
      "text/plain": [
       "[1, 2, 3]"
      ]
     },
     "execution_count": 4,
     "metadata": {},
     "output_type": "execute_result"
    }
   ],
   "source": [
    "value = []\n",
    "count = 0\n",
    "\n",
    "for i in data:\n",
    "    if i == 'o':\n",
    "        value.append(count)\n",
    "    \n",
    "    elif i == 's':\n",
    "        count = count ** 2\n",
    "    \n",
    "    elif i == 'd':\n",
    "        count -= 1\n",
    "        \n",
    "    elif i == 'i':\n",
    "        count += 1\n",
    "        \n",
    "    else:\n",
    "        continue\n",
    "        \n",
    "value\n",
    "        "
   ]
  }
 ],
 "metadata": {
  "kernelspec": {
   "display_name": "Python 3",
   "language": "python",
   "name": "python3"
  },
  "language_info": {
   "codemirror_mode": {
    "name": "ipython",
    "version": 3
   },
   "file_extension": ".py",
   "mimetype": "text/x-python",
   "name": "python",
   "nbconvert_exporter": "python",
   "pygments_lexer": "ipython3",
   "version": "3.6.5"
  }
 },
 "nbformat": 4,
 "nbformat_minor": 2
}
