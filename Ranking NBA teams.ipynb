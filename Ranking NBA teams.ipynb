{
 "cells": [
  {
   "cell_type": "code",
   "execution_count": 2,
   "metadata": {},
   "outputs": [],
   "source": [
    "import re"
   ]
  },
  {
   "cell_type": "code",
   "execution_count": 25,
   "metadata": {},
   "outputs": [],
   "source": [
    "r = (\"Los Angeles Clippers 104 Dallas Mavericks 88,New York Knicks 101 Atlanta Hawks 112,Indiana Pacers 103 Memphis Grizzlies 112,\"\n",
    "     \"Los Angeles Lakers 111 Minnesota Timberwolves 112,Phoenix Suns 95 Dallas Mavericks 111,Portland Trail Blazers 112 New Orleans Pelicans 94,\"\n",
    "     \"Sacramento Kings 104 Los Angeles Clippers 111,Houston Rockets 85 Denver Nuggets 105,Memphis Grizzlies 76 Cleveland Cavaliers 106,\"\n",
    "     \"Milwaukee Bucks 97 New York Knicks 122,Oklahoma City Thunder 112 San Antonio Spurs 106,Boston Celtics 112 Philadelphia 76ers 95,\"\n",
    "     \"Brooklyn Nets 100 Chicago Bulls 115,Detroit Pistons 92 Utah Jazz 87,Miami Heat 104 Charlotte Hornets 94,\"\n",
    "     \"Toronto Raptors 106 Indiana Pacers 99,Orlando Magic 87 Washington Wizards 88,Golden State Warriors 111 New Orleans Pelicans 95,\"\n",
    "     \"Atlanta Hawks 94 Detroit Pistons 106,Chicago Bulls 97 Cleveland Cavaliers 95,\"\n",
    "     \"San Antonio Spurs 111 Houston Rockets 86,Chicago Bulls 103 Dallas Mavericks 102,Minnesota Timberwolves 112 Milwaukee Bucks 108,\"\n",
    "     \"New Orleans Pelicans 93 Miami Heat 90,Boston Celtics 81 Philadelphia 76ers 65,Detroit Pistons 115 Atlanta Hawks 87,\"\n",
    "     \"Toronto Raptors 92 Washington Wizards 82,Orlando Magic 86 Memphis Grizzlies 76,Los Angeles Clippers 115 Portland Trail Blazers 109,\"\n",
    "     \"Los Angeles Lakers 97 Golden State Warriors 136,Utah Jazz 98 Denver Nuggets 78,Boston Celtics 99 New York Knicks 85,\"\n",
    "     \"Indiana Pacers 98 Charlotte Hornets 86,Dallas Mavericks 87 Phoenix Suns 99,Atlanta Hawks 81 Memphis Grizzlies 82,\"\n",
    "     \"Miami Heat 110 Washington Wizards 105,Detroit Pistons 94 Charlotte Hornets 99,Orlando Magic 110 New Orleans Pelicans 107,\"\n",
    "     \"Los Angeles Clippers 130 Golden State Warriors 95,Utah Jazz 102 Oklahoma City Thunder 113,San Antonio Spurs 84 Phoenix Suns 104,\"\n",
    "     \"Chicago Bulls 103 Indiana Pacers 94,Milwaukee Bucks 106 Minnesota Timberwolves 88,Los Angeles Lakers 104 Portland Trail Blazers 102,\"\n",
    "     \"Houston Rockets 120 New Orleans Pelicans 100,Boston Celtics 111 Brooklyn Nets 105,Charlotte Hornets 94 Chicago Bulls 86,\"\n",
    "     \"Cleveland Cavaliers 103 Dallas Mavericks 97\")"
   ]
  },
  {
   "cell_type": "code",
   "execution_count": 17,
   "metadata": {},
   "outputs": [],
   "source": [
    "r = (\"Los Angeles Clippers 104 Dallas Mavericks 88,New York Knicks 101 Atlanta Hawks 112,Indiana Pacers 103 Memphis Grizzlies 112,\"\n",
    "     \"Los Angeles Lakers 111 Minnesota Timberwolves 112,Phoenix Suns 95 Dallas Mavericks 111,Portland Trail Blazers 112 New Orleans Pelicans 94,\"\n",
    "     \"Sacramento Kings 104 Los Angeles Clippers 111,Houston Rockets 85 Denver Nuggets 105,Memphis Grizzlies 76 Cleveland Cavaliers 106,\"\n",
    "     \"Milwaukee Bucks 97 New York Knicks 122,Oklahoma City Thunder 112 San Antonio Spurs 106,Boston Celtics 112 Philadelphia 76ers 95,\"\n",
    "     \"Brooklyn Nets 100 Chicago Bulls 115,Detroit Pistons 92 Utah Jazz 87,Miami Heat 104 Charlotte Hornets 94,\"\n",
    "     \"Toronto Raptors 106 Indiana Pacers 99,Orlando Magic 87 Washington Wizards 88,Golden State Warriors 111 New Orleans Pelicans 95,\"\n",
    "     \"Atlanta Hawks 94 Detroit Pistons 106,Chicago Bulls 97 Cleveland Cavaliers 95,\"\n",
    "     \"San Antonio Spurs 111 Houston Rockets 86,Chicago Bulls 103 Dallas Mavericks 102,Minnesota Timberwolves 112 Milwaukee Bucks 108,\"\n",
    "     \"New Orleans Pelicans 93 Miami Heat 90,Detroit Pistons 115 Atlanta Hawks 87,\"\n",
    "     \"Toronto Raptors 92 Washington Wizards 82,Orlando Magic 86 Memphis Grizzlies 76,Los Angeles Clippers 115 Portland Trail Blazers 109,\"\n",
    "     \"Los Angeles Lakers 97 Golden State Warriors 136,Utah Jazz 98 Denver Nuggets 78,Boston Celtics 99 New York Knicks 85,\"\n",
    "     \"Indiana Pacers 98 Charlotte Hornets 86,Dallas Mavericks 87 Phoenix Suns 99,Atlanta Hawks 81 Memphis Grizzlies 82,\"\n",
    "     \"Miami Heat 110 Washington Wizards 105,Detroit Pistons 94 Charlotte Hornets 99,Orlando Magic 110 New Orleans Pelicans 107,\"\n",
    "     \"Los Angeles Clippers 130 Golden State Warriors 95,Utah Jazz 102 Oklahoma City Thunder 113,San Antonio Spurs 84 Phoenix Suns 104,\"\n",
    "     \"Chicago Bulls 103 Indiana Pacers 94,Milwaukee Bucks 106 Minnesota Timberwolves 88,Los Angeles Lakers 104 Portland Trail Blazers 102,\"\n",
    "     \"Houston Rockets 120 New Orleans Pelicans 100,Boston Celtics 111 Brooklyn Nets 105,Charlotte Hornets 94 Chicago Bulls 86,\"\n",
    "     \"Cleveland Cavaliers 103 Dallas Mavericks 97\")"
   ]
  },
  {
   "cell_type": "code",
   "execution_count": 4,
   "metadata": {},
   "outputs": [],
   "source": [
    "list_of_str = r.split(\",\")"
   ]
  },
  {
   "cell_type": "code",
   "execution_count": 42,
   "metadata": {},
   "outputs": [
    {
     "data": {
      "text/plain": [
       "['Boston', 'Celtics', '81', 'Philadelphia', '76ers', '65']"
      ]
     },
     "execution_count": 42,
     "metadata": {},
     "output_type": "execute_result"
    }
   ],
   "source": [
    "r.split(\",\")[24].split(\" \")"
   ]
  },
  {
   "cell_type": "code",
   "execution_count": 43,
   "metadata": {},
   "outputs": [
    {
     "name": "stdout",
     "output_type": "stream",
     "text": [
      "81\n",
      "65\n"
     ]
    }
   ],
   "source": [
    "for i in r.split(\",\")[24].split(\" \"):\n",
    "    if re.match(r\"[0-9]\", i) and i != '76ers':\n",
    "        print(i)"
   ]
  },
  {
   "cell_type": "code",
   "execution_count": 53,
   "metadata": {},
   "outputs": [
    {
     "name": "stdout",
     "output_type": "stream",
     "text": [
      "Los\n",
      "Angeles\n",
      "Clippers\n",
      "104\n",
      "Dallas\n",
      "Mavericks\n",
      "88\n"
     ]
    }
   ],
   "source": [
    "for i in r.split(\",\")[0].split(\" \"):\n",
    "    print(i)"
   ]
  },
  {
   "cell_type": "code",
   "execution_count": 55,
   "metadata": {},
   "outputs": [
    {
     "name": "stdout",
     "output_type": "stream",
     "text": [
      "104\n",
      "88\n"
     ]
    }
   ],
   "source": [
    "for i in r.split(\",\")[0].split(\" \"):\n",
    "    if i.isdigit():\n",
    "        print(i)"
   ]
  },
  {
   "cell_type": "code",
   "execution_count": 64,
   "metadata": {},
   "outputs": [
    {
     "name": "stdout",
     "output_type": "stream",
     "text": [
      "104\n",
      "88\n",
      "Los Angeles Clippers Dallas Mavericks\n"
     ]
    }
   ],
   "source": [
    "first_team_name = []\n",
    "for i in r.split(\",\")[0].split(\" \"):\n",
    "    if i.isdigit():\n",
    "        print(i)\n",
    "    else:\n",
    "        first_team_name.append(i)\n",
    "    \n",
    "first_team_name = \" \".join(first_team_name)\n",
    "print(first_team_name)"
   ]
  },
  {
   "cell_type": "code",
   "execution_count": 18,
   "metadata": {},
   "outputs": [],
   "source": [
    "loop = len(r.split(\",\"))"
   ]
  },
  {
   "cell_type": "code",
   "execution_count": 24,
   "metadata": {},
   "outputs": [
    {
     "data": {
      "text/plain": [
       "'Los Angeles Clippers 104 Dallas Mavericks 88'"
      ]
     },
     "execution_count": 24,
     "metadata": {},
     "output_type": "execute_result"
    }
   ],
   "source": [
    "list_of_str[0]"
   ]
  },
  {
   "cell_type": "code",
   "execution_count": null,
   "metadata": {},
   "outputs": [],
   "source": [
    "def nba_cup(result_sheet, to_find):\n",
    "    "
   ]
  },
  {
   "cell_type": "code",
   "execution_count": 28,
   "metadata": {},
   "outputs": [
    {
     "data": {
      "text/plain": [
       "range(0, 48)"
      ]
     },
     "execution_count": 28,
     "metadata": {},
     "output_type": "execute_result"
    }
   ],
   "source": [
    "range(len(list_of_str))"
   ]
  },
  {
   "cell_type": "code",
   "execution_count": 30,
   "metadata": {},
   "outputs": [
    {
     "data": {
      "text/plain": [
       "['Los', 'Angeles', 'Clippers', '104', 'Dallas', 'Mavericks', '88']"
      ]
     },
     "execution_count": 30,
     "metadata": {},
     "output_type": "execute_result"
    }
   ],
   "source": [
    "list_of_str[0].split(\",\")[0].split(\" \")"
   ]
  },
  {
   "cell_type": "code",
   "execution_count": 24,
   "metadata": {},
   "outputs": [
    {
     "data": {
      "text/plain": [
       "True"
      ]
     },
     "execution_count": 24,
     "metadata": {},
     "output_type": "execute_result"
    }
   ],
   "source": [
    "i = '76'\n",
    "\n",
    "i.isdigit()"
   ]
  },
  {
   "cell_type": "code",
   "execution_count": 25,
   "metadata": {},
   "outputs": [
    {
     "name": "stdout",
     "output_type": "stream",
     "text": [
      "104\n",
      "104\n"
     ]
    },
    {
     "ename": "KeyboardInterrupt",
     "evalue": "",
     "output_type": "error",
     "traceback": [
      "\u001b[0;31m---------------------------------------------------------------------------\u001b[0m",
      "\u001b[0;31mKeyboardInterrupt\u001b[0m                         Traceback (most recent call last)",
      "\u001b[0;32m<ipython-input-25-d9e5f08a0000>\u001b[0m in \u001b[0;36m<module>\u001b[0;34m\u001b[0m\n\u001b[1;32m     19\u001b[0m             \u001b[0;32mif\u001b[0m \u001b[0mi\u001b[0m\u001b[0;34m.\u001b[0m\u001b[0misdigit\u001b[0m\u001b[0;34m(\u001b[0m\u001b[0;34m)\u001b[0m\u001b[0;34m:\u001b[0m \u001b[0;31m# and i != '76ers':\u001b[0m\u001b[0;34m\u001b[0m\u001b[0m\n\u001b[1;32m     20\u001b[0m                 \u001b[0msecond_team_points\u001b[0m \u001b[0;34m=\u001b[0m \u001b[0mi\u001b[0m\u001b[0;34m\u001b[0m\u001b[0m\n\u001b[0;32m---> 21\u001b[0;31m                 \u001b[0msecond_team_name\u001b[0m \u001b[0;34m=\u001b[0m \u001b[0;34m\" \"\u001b[0m\u001b[0;34m.\u001b[0m\u001b[0mjoin\u001b[0m\u001b[0;34m(\u001b[0m\u001b[0msecond_team_name\u001b[0m\u001b[0;34m)\u001b[0m\u001b[0;34m\u001b[0m\u001b[0m\n\u001b[0m\u001b[1;32m     22\u001b[0m             \u001b[0;32melse\u001b[0m\u001b[0;34m:\u001b[0m\u001b[0;34m\u001b[0m\u001b[0m\n\u001b[1;32m     23\u001b[0m                 \u001b[0msecond_team_name\u001b[0m \u001b[0;34m+=\u001b[0m \u001b[0mi\u001b[0m\u001b[0;34m\u001b[0m\u001b[0m\n",
      "\u001b[0;31mKeyboardInterrupt\u001b[0m: "
     ]
    }
   ],
   "source": [
    "first_team_name = []\n",
    "second_team_name = []\n",
    "first_team = True\n",
    "\n",
    "master_dictionary = {}\n",
    "\n",
    "for x in range(len(list_of_str)):\n",
    "\n",
    "    for i in r.split(\",\")[x].split(\" \"):\n",
    "        if first_team == True:\n",
    "            if i.isdigit(): # and i != '76ers':\n",
    "                first_team_points = i\n",
    "                first_team_name = \" \".join(first_team_name)\n",
    "                first_team = False\n",
    "            else:\n",
    "                first_team_name += i\n",
    "\n",
    "        else:\n",
    "            if i.isdigit(): # and i != '76ers':\n",
    "                second_team_points = i\n",
    "                second_team_name = \" \".join(second_team_name)\n",
    "            else:\n",
    "                second_team_name += i\n",
    "\n",
    "    #print(first_team_name, first_team_points, second_team_name, second_team_points)\n",
    "    first_team_points = int(first_team_points)\n",
    "    print(first_team_points)\n",
    "    second_team_points = int(second_team_points)\n",
    "\n",
    "    if first_team_name in list(master_dictionary.keys()):\n",
    "        master_dictionary[first_team_name]['Scored'] = master_dictionary[first_team_name]['Scored'] + first_team_points \n",
    "        master_dictionary[first_team_name]['Conceded'] = master_dictionary[first_team_name]['Conceded'] + second_team_points\n",
    "\n",
    "        if first_team_points > second_team_points:\n",
    "            master_dictionary[first_team_name]['num_wins'] += 1\n",
    "            master_dictionary[first_team_name]['num_draws'] += 0\n",
    "            master_dictionary[first_team_name]['num_losses'] += 0\n",
    "\n",
    "        elif first_team_points == second_team_points:\n",
    "            master_dictionary[first_team_name]['num_wins'] += 0\n",
    "            master_dictionary[first_team_name]['num_draws'] += 1\n",
    "            master_dictionary[first_team_name]['num_losses'] += 0\n",
    "\n",
    "        elif first_team_points < second_team_points:\n",
    "            master_dictionary[first_team_name]['num_wins'] += 0\n",
    "            master_dictionary[first_team_name]['num_draws'] += 0\n",
    "            master_dictionary[first_team_name]['num_losses'] += 1\n",
    "\n",
    "\n",
    "\n",
    "\n",
    "    else:\n",
    "        #master_dictionary.update({first_team_name: {'Scored': first_team_points}})\n",
    "        master_dictionary[first_team_name] = {}\n",
    "        master_dictionary[first_team_name]['Scored'] = first_team_points\n",
    "        master_dictionary[first_team_name]['Conceded'] = second_team_points\n",
    "\n",
    "        if first_team_points > second_team_points:\n",
    "            master_dictionary[first_team_name]['num_wins'] = 1\n",
    "            master_dictionary[first_team_name]['num_draws'] = 0\n",
    "            master_dictionary[first_team_name]['num_losses'] = 0\n",
    "\n",
    "        elif first_team_points == second_team_points:\n",
    "            master_dictionary[first_team_name]['num_wins'] = 0\n",
    "            master_dictionary[first_team_name]['num_draws'] = 1\n",
    "            master_dictionary[first_team_name]['num_losses'] = 0\n",
    "\n",
    "        elif first_team_points < second_team_points:\n",
    "            master_dictionary[first_team_name]['num_wins'] = 0\n",
    "            master_dictionary[first_team_name]['num_draws'] = 0\n",
    "            master_dictionary[first_team_name]['num_losses'] = 1\n",
    "\n",
    "master_dictionary"
   ]
  },
  {
   "cell_type": "code",
   "execution_count": null,
   "metadata": {},
   "outputs": [],
   "source": []
  },
  {
   "cell_type": "code",
   "execution_count": 26,
   "metadata": {},
   "outputs": [
    {
     "data": {
      "text/plain": [
       "['Cleveland', 'Cavaliers', '103', 'Dallas', 'Mavericks', '97']"
      ]
     },
     "execution_count": 26,
     "metadata": {},
     "output_type": "execute_result"
    }
   ],
   "source": [
    "r.split(\",\")[47].split(\" \")"
   ]
  },
  {
   "cell_type": "code",
   "execution_count": 6,
   "metadata": {},
   "outputs": [
    {
     "data": {
      "text/plain": [
       "['New', 'York', 'Knicks', '101', 'Atlanta', 'Hawks', '112']"
      ]
     },
     "execution_count": 6,
     "metadata": {},
     "output_type": "execute_result"
    }
   ],
   "source": [
    "r.split(\",\")[1].split(\" \")"
   ]
  },
  {
   "cell_type": "code",
   "execution_count": null,
   "metadata": {},
   "outputs": [],
   "source": []
  },
  {
   "cell_type": "code",
   "execution_count": 11,
   "metadata": {
    "scrolled": true
   },
   "outputs": [
    {
     "name": "stdout",
     "output_type": "stream",
     "text": [
      "0\n",
      "1\n",
      "2\n",
      "3\n",
      "4\n",
      "5\n",
      "6\n",
      "7\n",
      "8\n",
      "9\n",
      "10\n",
      "11\n",
      "12\n",
      "13\n",
      "14\n",
      "15\n",
      "16\n",
      "17\n",
      "18\n",
      "19\n",
      "20\n",
      "21\n",
      "22\n",
      "23\n",
      "24\n",
      "25\n",
      "26\n",
      "27\n",
      "28\n",
      "29\n",
      "30\n",
      "31\n",
      "32\n",
      "33\n",
      "34\n",
      "35\n",
      "36\n",
      "37\n",
      "38\n",
      "39\n",
      "40\n",
      "41\n",
      "42\n",
      "43\n",
      "44\n",
      "45\n",
      "46\n",
      "47\n"
     ]
    },
    {
     "data": {
      "text/plain": [
       "[None,\n",
       " None,\n",
       " None,\n",
       " None,\n",
       " None,\n",
       " None,\n",
       " None,\n",
       " None,\n",
       " None,\n",
       " None,\n",
       " None,\n",
       " None,\n",
       " None,\n",
       " None,\n",
       " None,\n",
       " None,\n",
       " None,\n",
       " None,\n",
       " None,\n",
       " None,\n",
       " None,\n",
       " None,\n",
       " None,\n",
       " None,\n",
       " None,\n",
       " None,\n",
       " None,\n",
       " None,\n",
       " None,\n",
       " None,\n",
       " None,\n",
       " None,\n",
       " None,\n",
       " None,\n",
       " None,\n",
       " None,\n",
       " None,\n",
       " None,\n",
       " None,\n",
       " None,\n",
       " None,\n",
       " None,\n",
       " None,\n",
       " None,\n",
       " None,\n",
       " None,\n",
       " None,\n",
       " None]"
      ]
     },
     "execution_count": 11,
     "metadata": {},
     "output_type": "execute_result"
    }
   ],
   "source": [
    "[print(x) for x in range(len(list_of_str))]"
   ]
  },
  {
   "cell_type": "code",
   "execution_count": 53,
   "metadata": {},
   "outputs": [
    {
     "name": "stdout",
     "output_type": "stream",
     "text": [
      "Indiana\n",
      "Pacers\n",
      "103\n",
      "Memphis\n",
      "Grizzlies\n",
      "112\n"
     ]
    },
    {
     "data": {
      "text/plain": [
       "[None, None, None, None, None, None]"
      ]
     },
     "execution_count": 53,
     "metadata": {},
     "output_type": "execute_result"
    }
   ],
   "source": [
    "[print(i) for i in r.split(\",\")[2].split(\" \")]"
   ]
  },
  {
   "cell_type": "code",
   "execution_count": 58,
   "metadata": {
    "scrolled": true
   },
   "outputs": [
    {
     "data": {
      "text/plain": [
       "['Indiana', 'Pacers', '103', 'Memphis', 'Grizzlies', '112']"
      ]
     },
     "execution_count": 58,
     "metadata": {},
     "output_type": "execute_result"
    }
   ],
   "source": [
    "r.split(\",\")[2].split(\" \")"
   ]
  },
  {
   "cell_type": "code",
   "execution_count": 62,
   "metadata": {},
   "outputs": [
    {
     "data": {
      "text/plain": [
       "103"
      ]
     },
     "execution_count": 62,
     "metadata": {},
     "output_type": "execute_result"
    }
   ],
   "source": [
    "int(r.split(\",\")[2].split(\" \")[2])"
   ]
  },
  {
   "cell_type": "code",
   "execution_count": 72,
   "metadata": {
    "scrolled": true
   },
   "outputs": [
    {
     "ename": "ValueError",
     "evalue": "invalid literal for int() with base 10: 'Pacers'",
     "output_type": "error",
     "traceback": [
      "\u001b[0;31m---------------------------------------------------------------------------\u001b[0m",
      "\u001b[0;31mValueError\u001b[0m                                Traceback (most recent call last)",
      "\u001b[0;32m<ipython-input-72-6e9d542f23d8>\u001b[0m in \u001b[0;36m<module>\u001b[0;34m\u001b[0m\n\u001b[0;32m----> 1\u001b[0;31m \u001b[0mtype\u001b[0m\u001b[0;34m(\u001b[0m\u001b[0mint\u001b[0m\u001b[0;34m(\u001b[0m\u001b[0mr\u001b[0m\u001b[0;34m.\u001b[0m\u001b[0msplit\u001b[0m\u001b[0;34m(\u001b[0m\u001b[0;34m\",\"\u001b[0m\u001b[0;34m)\u001b[0m\u001b[0;34m[\u001b[0m\u001b[0;36m2\u001b[0m\u001b[0;34m]\u001b[0m\u001b[0;34m.\u001b[0m\u001b[0msplit\u001b[0m\u001b[0;34m(\u001b[0m\u001b[0;34m\" \"\u001b[0m\u001b[0;34m)\u001b[0m\u001b[0;34m[\u001b[0m\u001b[0;36m1\u001b[0m\u001b[0;34m]\u001b[0m\u001b[0;34m)\u001b[0m\u001b[0;34m)\u001b[0m\u001b[0;34m\u001b[0m\u001b[0m\n\u001b[0m",
      "\u001b[0;31mValueError\u001b[0m: invalid literal for int() with base 10: 'Pacers'"
     ]
    }
   ],
   "source": [
    "type(int(r.split(\",\")[2].split(\" \")[1]))"
   ]
  },
  {
   "cell_type": "markdown",
   "metadata": {},
   "source": [
    "# LEFT OFF HERE"
   ]
  },
  {
   "cell_type": "code",
   "execution_count": 54,
   "metadata": {
    "scrolled": true
   },
   "outputs": [
    {
     "data": {
      "text/plain": [
       "{'Los Angeles Clippers': {'Scored': 460,\n",
       "  'Conceded': 396,\n",
       "  'num_wins': 4,\n",
       "  'num_draws': 0,\n",
       "  'num_losses': 0},\n",
       " 'New York Knicks': {'Scored': 308,\n",
       "  'Conceded': 308,\n",
       "  'num_wins': 1,\n",
       "  'num_draws': 0,\n",
       "  'num_losses': 2},\n",
       " 'Indiana Pacers': {'Scored': 394,\n",
       "  'Conceded': 407,\n",
       "  'num_wins': 1,\n",
       "  'num_draws': 0,\n",
       "  'num_losses': 3},\n",
       " 'Los Angeles Lakers': {'Scored': 312,\n",
       "  'Conceded': 350,\n",
       "  'num_wins': 1,\n",
       "  'num_draws': 0,\n",
       "  'num_losses': 2},\n",
       " 'Phoenix Suns': {'Scored': 298,\n",
       "  'Conceded': 282,\n",
       "  'num_wins': 2,\n",
       "  'num_draws': 0,\n",
       "  'num_losses': 1},\n",
       " 'Portland Trail Blazers': {'Scored': 323,\n",
       "  'Conceded': 313,\n",
       "  'num_wins': 1,\n",
       "  'num_draws': 0,\n",
       "  'num_losses': 2},\n",
       " 'Sacramento Kings': {'Scored': 104,\n",
       "  'Conceded': 111,\n",
       "  'num_wins': 0,\n",
       "  'num_draws': 0,\n",
       "  'num_losses': 1},\n",
       " 'Houston Rockets': {'Scored': 291,\n",
       "  'Conceded': 316,\n",
       "  'num_wins': 1,\n",
       "  'num_draws': 0,\n",
       "  'num_losses': 2},\n",
       " 'Memphis Grizzlies': {'Scored': 234,\n",
       "  'Conceded': 273,\n",
       "  'num_wins': 1,\n",
       "  'num_draws': 0,\n",
       "  'num_losses': 2},\n",
       " 'Milwaukee Bucks': {'Scored': 311,\n",
       "  'Conceded': 322,\n",
       "  'num_wins': 1,\n",
       "  'num_draws': 0,\n",
       "  'num_losses': 2},\n",
       " 'Oklahoma City Thunder': {'Scored': 225,\n",
       "  'Conceded': 208,\n",
       "  'num_wins': 2,\n",
       "  'num_draws': 0,\n",
       "  'num_losses': 0},\n",
       " 'Boston Celtics': {'Scored': 403,\n",
       "  'Conceded': 350,\n",
       "  'num_wins': 4,\n",
       "  'num_draws': 0,\n",
       "  'num_losses': 0},\n",
       " 'Brooklyn Nets': {'Scored': 205,\n",
       "  'Conceded': 226,\n",
       "  'num_wins': 0,\n",
       "  'num_draws': 0,\n",
       "  'num_losses': 2},\n",
       " 'Detroit Pistons': {'Scored': 407,\n",
       "  'Conceded': 367,\n",
       "  'num_wins': 3,\n",
       "  'num_draws': 0,\n",
       "  'num_losses': 1},\n",
       " 'Miami Heat': {'Scored': 304,\n",
       "  'Conceded': 292,\n",
       "  'num_wins': 2,\n",
       "  'num_draws': 0,\n",
       "  'num_losses': 1},\n",
       " 'Toronto Raptors': {'Scored': 198,\n",
       "  'Conceded': 181,\n",
       "  'num_wins': 2,\n",
       "  'num_draws': 0,\n",
       "  'num_losses': 0},\n",
       " 'Orlando Magic': {'Scored': 283,\n",
       "  'Conceded': 271,\n",
       "  'num_wins': 2,\n",
       "  'num_draws': 0,\n",
       "  'num_losses': 1},\n",
       " 'Golden State Warriors': {'Scored': 342,\n",
       "  'Conceded': 322,\n",
       "  'num_wins': 2,\n",
       "  'num_draws': 0,\n",
       "  'num_losses': 1},\n",
       " 'Atlanta Hawks': {'Scored': 262,\n",
       "  'Conceded': 303,\n",
       "  'num_wins': 0,\n",
       "  'num_draws': 0,\n",
       "  'num_losses': 3},\n",
       " 'Chicago Bulls': {'Scored': 389,\n",
       "  'Conceded': 385,\n",
       "  'num_wins': 3,\n",
       "  'num_draws': 0,\n",
       "  'num_losses': 1},\n",
       " 'San Antonio Spurs': {'Scored': 195,\n",
       "  'Conceded': 190,\n",
       "  'num_wins': 1,\n",
       "  'num_draws': 0,\n",
       "  'num_losses': 1},\n",
       " 'Minnesota Timberwolves': {'Scored': 200,\n",
       "  'Conceded': 214,\n",
       "  'num_wins': 1,\n",
       "  'num_draws': 0,\n",
       "  'num_losses': 1},\n",
       " 'New Orleans Pelicans': {'Scored': 300,\n",
       "  'Conceded': 320,\n",
       "  'num_wins': 1,\n",
       "  'num_draws': 0,\n",
       "  'num_losses': 2},\n",
       " 'Utah Jazz': {'Scored': 200,\n",
       "  'Conceded': 191,\n",
       "  'num_wins': 1,\n",
       "  'num_draws': 0,\n",
       "  'num_losses': 1},\n",
       " 'Dallas Mavericks': {'Scored': 184,\n",
       "  'Conceded': 202,\n",
       "  'num_wins': 0,\n",
       "  'num_draws': 0,\n",
       "  'num_losses': 2},\n",
       " 'Charlotte Hornets': {'Scored': 94,\n",
       "  'Conceded': 86,\n",
       "  'num_wins': 1,\n",
       "  'num_draws': 0,\n",
       "  'num_losses': 0},\n",
       " 'Cleveland Cavaliers': {'Scored': 103,\n",
       "  'Conceded': 97,\n",
       "  'num_wins': 1,\n",
       "  'num_draws': 0,\n",
       "  'num_losses': 0}}"
      ]
     },
     "execution_count": 54,
     "metadata": {},
     "output_type": "execute_result"
    }
   ],
   "source": [
    "master_dictionary = {}\n",
    "master_second_dictionary = {}\n",
    "\n",
    "for x in range(len(list_of_str)): \n",
    "    first_team_name = []\n",
    "    second_team_name = []\n",
    "    first_team = True\n",
    "\n",
    "    \n",
    "\n",
    "    for i in r.split(\",\")[x].split(\" \"):\n",
    "        if first_team == True:\n",
    "            if i.isdigit():\n",
    "                first_team_points = int(i)\n",
    "                first_team_name = \" \".join(first_team_name)\n",
    "                first_team = False\n",
    "            else:\n",
    "                first_team_name.append(i)\n",
    "        else:\n",
    "            if i.isdigit():\n",
    "                second_team_points = int(i)\n",
    "                second_team_name = \" \".join(second_team_name)\n",
    "            else:\n",
    "                second_team_name.append(i)\n",
    "\n",
    "    #print(first_team_name, first_team_points, second_team_name, second_team_points)\n",
    "    if first_team_name in list(master_dictionary.keys()):\n",
    "        master_dictionary[first_team_name]['Scored'] = master_dictionary[first_team_name]['Scored'] + first_team_points \n",
    "        master_dictionary[first_team_name]['Conceded'] = master_dictionary[first_team_name]['Conceded'] + second_team_points\n",
    "\n",
    "        if first_team_points > second_team_points:\n",
    "            master_dictionary[first_team_name]['num_wins'] += 1\n",
    "            master_dictionary[first_team_name]['num_draws'] += 0\n",
    "            master_dictionary[first_team_name]['num_losses'] += 0\n",
    "\n",
    "        elif first_team_points == second_team_points:\n",
    "            master_dictionary[first_team_name]['num_wins'] += 0\n",
    "            master_dictionary[first_team_name]['num_draws'] += 1\n",
    "            master_dictionary[first_team_name]['num_losses'] += 0\n",
    "\n",
    "        elif first_team_points < second_team_points:\n",
    "            master_dictionary[first_team_name]['num_wins'] += 0\n",
    "            master_dictionary[first_team_name]['num_draws'] += 0\n",
    "            master_dictionary[first_team_name]['num_losses'] += 1\n",
    "    \n",
    "    elif first_team_name not in list(master_dictionary.keys()):\n",
    "        master_dictionary[first_team_name] = {}\n",
    "        master_dictionary[first_team_name]['Scored'] = first_team_points\n",
    "        master_dictionary[first_team_name]['Conceded'] = second_team_points\n",
    "\n",
    "        if first_team_points > second_team_points:\n",
    "            master_dictionary[first_team_name]['num_wins'] = 1\n",
    "            master_dictionary[first_team_name]['num_draws'] = 0\n",
    "            master_dictionary[first_team_name]['num_losses'] = 0\n",
    "\n",
    "        elif first_team_points == second_team_points:\n",
    "            master_dictionary[first_team_name]['num_wins'] = 0\n",
    "            master_dictionary[first_team_name]['num_draws'] = 1\n",
    "            master_dictionary[first_team_name]['num_losses'] = 0\n",
    "\n",
    "        elif first_team_points < second_team_points:\n",
    "            master_dictionary[first_team_name]['num_wins'] = 0\n",
    "            master_dictionary[first_team_name]['num_draws'] = 0\n",
    "            master_dictionary[first_team_name]['num_losses'] = 1\n",
    "            \n",
    "    \n",
    "            \n",
    "    if second_team_name in list(master_dictionary.keys()):\n",
    "        master_dictionary[second_team_name]['Scored'] = master_dictionary[second_team_name]['Scored'] + second_team_points \n",
    "        master_dictionary[second_team_name]['Conceded'] = master_dictionary[second_team_name]['Conceded'] + first_team_points\n",
    "\n",
    "        if second_team_points > first_team_points:\n",
    "            master_dictionary[second_team_name]['num_wins'] += 1\n",
    "            master_dictionary[second_team_name]['num_draws'] += 0\n",
    "            master_dictionary[second_team_name]['num_losses'] += 0\n",
    "\n",
    "        elif second_team_points == first_team_points:\n",
    "            master_dictionary[second_team_name]['num_wins'] += 0\n",
    "            master_dictionary[second_team_name]['num_draws'] += 1\n",
    "            master_dictionary[second_team_name]['num_losses'] += 0\n",
    "\n",
    "        elif second_team_points < first_team_points:\n",
    "            master_dictionary[second_team_name]['num_wins'] += 0\n",
    "            master_dictionary[second_team_name]['num_draws'] += 0\n",
    "            master_dictionary[second_team_name]['num_losses'] += 1\n",
    "    \n",
    "    #else:\n",
    "        #master_second_dictionary\n",
    "    \n",
    "    #print(second_team_name)\n",
    "        \n",
    "    \"\"\"elif second_team_name not in list(master_dictionary.keys()):\n",
    "        master_dictionary[second_team_name] = {}\n",
    "        master_dictionary[second_team_name]['Scored'] = second_team_points\n",
    "        master_dictionary[second_team_name]['Conceded'] = first_team_points\n",
    "\n",
    "        if second_team_points > first_team_points:\n",
    "            master_dictionary[second_team_name]['num_wins'] = 1\n",
    "            master_dictionary[second_team_name]['num_draws'] = 0\n",
    "            master_dictionary[second_team_name]['num_losses'] = 0\n",
    "\n",
    "        elif second_team_points == first_team_points:\n",
    "            master_dictionary[second_team_name]['num_wins'] = 0\n",
    "            master_dictionary[second_team_name]['num_draws'] = 1\n",
    "            master_dictionary[second_team_name]['num_losses'] = 0\n",
    "\n",
    "        elif first_team_points < second_team_points:\n",
    "            master_dictionary[second_team_name]['num_wins'] = 0\n",
    "            master_dictionary[second_team_name]['num_draws'] = 0\n",
    "            master_dictionary[second_team_name]['num_losses'] = 1\"\"\"\n",
    "    \n",
    "    \n",
    "master_dictionary\n"
   ]
  },
  {
   "cell_type": "code",
   "execution_count": 42,
   "metadata": {
    "scrolled": true
   },
   "outputs": [
    {
     "data": {
      "text/plain": [
       "['Los Angeles Clippers',\n",
       " 'New York Knicks',\n",
       " 'Indiana Pacers',\n",
       " 'Los Angeles Lakers',\n",
       " 'Phoenix Suns',\n",
       " 'Portland Trail Blazers',\n",
       " 'Sacramento Kings',\n",
       " 'Houston Rockets',\n",
       " 'Memphis Grizzlies',\n",
       " 'Milwaukee Bucks',\n",
       " 'Oklahoma City Thunder',\n",
       " 'Boston Celtics',\n",
       " 'Brooklyn Nets',\n",
       " 'Detroit Pistons',\n",
       " 'Miami Heat',\n",
       " 'Toronto Raptors',\n",
       " 'Orlando Magic',\n",
       " 'Golden State Warriors',\n",
       " 'Atlanta Hawks',\n",
       " 'Chicago Bulls',\n",
       " 'San Antonio Spurs',\n",
       " 'Minnesota Timberwolves',\n",
       " 'New Orleans Pelicans',\n",
       " 'Utah Jazz',\n",
       " 'Dallas Mavericks',\n",
       " 'Charlotte Hornets',\n",
       " 'Cleveland Cavaliers']"
      ]
     },
     "execution_count": 42,
     "metadata": {},
     "output_type": "execute_result"
    }
   ],
   "source": [
    "list(master_dictionary.keys())"
   ]
  },
  {
   "cell_type": "code",
   "execution_count": 43,
   "metadata": {},
   "outputs": [
    {
     "data": {
      "text/plain": [
       "{'Los Angeles Clippers': {'Scored': 460,\n",
       "  'Conceded': 396,\n",
       "  'num_wins': 4,\n",
       "  'num_draws': 0,\n",
       "  'num_losses': 0},\n",
       " 'New York Knicks': {'Scored': 308,\n",
       "  'Conceded': 308,\n",
       "  'num_wins': 1,\n",
       "  'num_draws': 0,\n",
       "  'num_losses': 2},\n",
       " 'Indiana Pacers': {'Scored': 394,\n",
       "  'Conceded': 407,\n",
       "  'num_wins': 1,\n",
       "  'num_draws': 0,\n",
       "  'num_losses': 3},\n",
       " 'Los Angeles Lakers': {'Scored': 312,\n",
       "  'Conceded': 350,\n",
       "  'num_wins': 1,\n",
       "  'num_draws': 0,\n",
       "  'num_losses': 2},\n",
       " 'Phoenix Suns': {'Scored': 298,\n",
       "  'Conceded': 282,\n",
       "  'num_wins': 2,\n",
       "  'num_draws': 0,\n",
       "  'num_losses': 1},\n",
       " 'Portland Trail Blazers': {'Scored': 323,\n",
       "  'Conceded': 313,\n",
       "  'num_wins': 1,\n",
       "  'num_draws': 0,\n",
       "  'num_losses': 2},\n",
       " 'Sacramento Kings': {'Scored': 104,\n",
       "  'Conceded': 111,\n",
       "  'num_wins': 0,\n",
       "  'num_draws': 0,\n",
       "  'num_losses': 1},\n",
       " 'Houston Rockets': {'Scored': 291,\n",
       "  'Conceded': 316,\n",
       "  'num_wins': 1,\n",
       "  'num_draws': 0,\n",
       "  'num_losses': 2},\n",
       " 'Memphis Grizzlies': {'Scored': 234,\n",
       "  'Conceded': 273,\n",
       "  'num_wins': 1,\n",
       "  'num_draws': 0,\n",
       "  'num_losses': 2},\n",
       " 'Milwaukee Bucks': {'Scored': 311,\n",
       "  'Conceded': 322,\n",
       "  'num_wins': 1,\n",
       "  'num_draws': 0,\n",
       "  'num_losses': 2},\n",
       " 'Oklahoma City Thunder': {'Scored': 225,\n",
       "  'Conceded': 208,\n",
       "  'num_wins': 2,\n",
       "  'num_draws': 0,\n",
       "  'num_losses': 0},\n",
       " 'Boston Celtics': {'Scored': 403,\n",
       "  'Conceded': 350,\n",
       "  'num_wins': 4,\n",
       "  'num_draws': 0,\n",
       "  'num_losses': 0},\n",
       " 'Brooklyn Nets': {'Scored': 205,\n",
       "  'Conceded': 226,\n",
       "  'num_wins': 0,\n",
       "  'num_draws': 0,\n",
       "  'num_losses': 2},\n",
       " 'Detroit Pistons': {'Scored': 407,\n",
       "  'Conceded': 367,\n",
       "  'num_wins': 3,\n",
       "  'num_draws': 0,\n",
       "  'num_losses': 1},\n",
       " 'Miami Heat': {'Scored': 304,\n",
       "  'Conceded': 292,\n",
       "  'num_wins': 2,\n",
       "  'num_draws': 0,\n",
       "  'num_losses': 1},\n",
       " 'Toronto Raptors': {'Scored': 198,\n",
       "  'Conceded': 181,\n",
       "  'num_wins': 2,\n",
       "  'num_draws': 0,\n",
       "  'num_losses': 0},\n",
       " 'Orlando Magic': {'Scored': 283,\n",
       "  'Conceded': 271,\n",
       "  'num_wins': 2,\n",
       "  'num_draws': 0,\n",
       "  'num_losses': 1},\n",
       " 'Golden State Warriors': {'Scored': 342,\n",
       "  'Conceded': 322,\n",
       "  'num_wins': 2,\n",
       "  'num_draws': 0,\n",
       "  'num_losses': 1},\n",
       " 'Atlanta Hawks': {'Scored': 262,\n",
       "  'Conceded': 303,\n",
       "  'num_wins': 0,\n",
       "  'num_draws': 0,\n",
       "  'num_losses': 3},\n",
       " 'Chicago Bulls': {'Scored': 389,\n",
       "  'Conceded': 385,\n",
       "  'num_wins': 3,\n",
       "  'num_draws': 0,\n",
       "  'num_losses': 1},\n",
       " 'San Antonio Spurs': {'Scored': 195,\n",
       "  'Conceded': 190,\n",
       "  'num_wins': 1,\n",
       "  'num_draws': 0,\n",
       "  'num_losses': 1},\n",
       " 'Minnesota Timberwolves': {'Scored': 200,\n",
       "  'Conceded': 214,\n",
       "  'num_wins': 1,\n",
       "  'num_draws': 0,\n",
       "  'num_losses': 1},\n",
       " 'New Orleans Pelicans': {'Scored': 300,\n",
       "  'Conceded': 320,\n",
       "  'num_wins': 1,\n",
       "  'num_draws': 0,\n",
       "  'num_losses': 2},\n",
       " 'Utah Jazz': {'Scored': 200,\n",
       "  'Conceded': 191,\n",
       "  'num_wins': 1,\n",
       "  'num_draws': 0,\n",
       "  'num_losses': 1},\n",
       " 'Dallas Mavericks': {'Scored': 184,\n",
       "  'Conceded': 202,\n",
       "  'num_wins': 0,\n",
       "  'num_draws': 0,\n",
       "  'num_losses': 2},\n",
       " 'Charlotte Hornets': {'Scored': 94,\n",
       "  'Conceded': 86,\n",
       "  'num_wins': 1,\n",
       "  'num_draws': 0,\n",
       "  'num_losses': 0},\n",
       " 'Cleveland Cavaliers': {'Scored': 103,\n",
       "  'Conceded': 97,\n",
       "  'num_wins': 1,\n",
       "  'num_draws': 0,\n",
       "  'num_losses': 0}}"
      ]
     },
     "execution_count": 43,
     "metadata": {},
     "output_type": "execute_result"
    }
   ],
   "source": [
    "master_dictionary"
   ]
  },
  {
   "cell_type": "code",
   "execution_count": 23,
   "metadata": {},
   "outputs": [
    {
     "ename": "IndentationError",
     "evalue": "unindent does not match any outer indentation level (<tokenize>, line 20)",
     "output_type": "error",
     "traceback": [
      "\u001b[0;36m  File \u001b[0;32m\"<tokenize>\"\u001b[0;36m, line \u001b[0;32m20\u001b[0m\n\u001b[0;31m    else:\u001b[0m\n\u001b[0m    ^\u001b[0m\n\u001b[0;31mIndentationError\u001b[0m\u001b[0;31m:\u001b[0m unindent does not match any outer indentation level\n"
     ]
    }
   ],
   "source": [
    "if second_team_name in list(master_dictionary.keys()):\n",
    "        master_dictionary[second_team_name]['Scored'] = master_dictionary[second_team_name]['Scored'] + second_team_points \n",
    "        master_dictionary[second_team_name]['Conceded'] = master_dictionary[second_team_name]['Conceded'] + first_team_points\n",
    "\n",
    "        if second_team_points > first_team_points:\n",
    "            master_dictionary[second_team_name]['num_wins'] += 1\n",
    "            master_dictionary[second_team_name]['num_draws'] += 0\n",
    "            master_dictionary[second_team_name]['num_losses'] += 0\n",
    "\n",
    "        elif second_team_points == first_team_points:\n",
    "            master_dictionary[second_team_name]['num_wins'] += 0\n",
    "            master_dictionary[second_team_name]['num_draws'] += 1\n",
    "            master_dictionary[second_team_name]['num_losses'] += 0\n",
    "\n",
    "        elif second_team_points < first_team_points:\n",
    "            master_dictionary[second_team_name]['num_wins'] += 0\n",
    "            master_dictionary[second_team_name]['num_draws'] += 0\n",
    "            master_dictionary[second_team_name]['num_losses'] += 1\n",
    "    \n",
    "    else:\n",
    "        #master_dictionary.update({first_team_name: {'Scored': first_team_points}})\n",
    "        master_dictionary[second_team_name] = {}\n",
    "        master_dictionary[second_team_name]['Scored'] = second_team_points\n",
    "        master_dictionary[second_team_name]['Conceded'] = first_team_points\n",
    "\n",
    "        if second_team_points > first_team_points:\n",
    "            master_dictionary[second_team_name]['num_wins'] = 1\n",
    "            master_dictionary[second_team_name]['num_draws'] = 0\n",
    "            master_dictionary[second_team_name]['num_losses'] = 0\n",
    "\n",
    "        elif second_team_points == first_team_points:\n",
    "            master_dictionary[second_team_name]['num_wins'] = 0\n",
    "            master_dictionary[second_team_name]['num_draws'] = 1\n",
    "            master_dictionary[second_team_name]['num_losses'] = 0\n",
    "\n",
    "        elif first_team_points < second_team_points:\n",
    "            master_dictionary[second_team_name]['num_wins'] = 0\n",
    "            master_dictionary[second_team_name]['num_draws'] = 0\n",
    "            master_dictionary[second_team_name]['num_losses'] = 1"
   ]
  },
  {
   "cell_type": "code",
   "execution_count": 77,
   "metadata": {},
   "outputs": [
    {
     "ename": "TypeError",
     "evalue": "unhashable type: 'list'",
     "output_type": "error",
     "traceback": [
      "\u001b[0;31m---------------------------------------------------------------------------\u001b[0m",
      "\u001b[0;31mTypeError\u001b[0m                                 Traceback (most recent call last)",
      "\u001b[0;32m<ipython-input-77-6d36d474af5b>\u001b[0m in \u001b[0;36m<module>\u001b[0;34m\u001b[0m\n\u001b[1;32m     56\u001b[0m     \u001b[0;32melse\u001b[0m\u001b[0;34m:\u001b[0m\u001b[0;34m\u001b[0m\u001b[0m\n\u001b[1;32m     57\u001b[0m         \u001b[0;31m#master_dictionary.update({first_team_name: {'Scored': first_team_points}})\u001b[0m\u001b[0;34m\u001b[0m\u001b[0;34m\u001b[0m\u001b[0m\n\u001b[0;32m---> 58\u001b[0;31m         \u001b[0mmaster_dictionary\u001b[0m\u001b[0;34m[\u001b[0m\u001b[0mfirst_team_name\u001b[0m\u001b[0;34m]\u001b[0m \u001b[0;34m=\u001b[0m \u001b[0;34m{\u001b[0m\u001b[0;34m}\u001b[0m\u001b[0;34m\u001b[0m\u001b[0m\n\u001b[0m\u001b[1;32m     59\u001b[0m         \u001b[0mmaster_dictionary\u001b[0m\u001b[0;34m[\u001b[0m\u001b[0mfirst_team_name\u001b[0m\u001b[0;34m]\u001b[0m\u001b[0;34m[\u001b[0m\u001b[0;34m'Scored'\u001b[0m\u001b[0;34m]\u001b[0m \u001b[0;34m=\u001b[0m \u001b[0mfirst_team_points\u001b[0m\u001b[0;34m\u001b[0m\u001b[0m\n\u001b[1;32m     60\u001b[0m         \u001b[0mmaster_dictionary\u001b[0m\u001b[0;34m[\u001b[0m\u001b[0mfirst_team_name\u001b[0m\u001b[0;34m]\u001b[0m\u001b[0;34m[\u001b[0m\u001b[0;34m'Conceded'\u001b[0m\u001b[0;34m]\u001b[0m \u001b[0;34m=\u001b[0m \u001b[0msecond_team_points\u001b[0m\u001b[0;34m\u001b[0m\u001b[0m\n",
      "\u001b[0;31mTypeError\u001b[0m: unhashable type: 'list'"
     ]
    }
   ],
   "source": [
    "master_dictionary = {}\n",
    "\n",
    "for x in range(len(list_of_str)): \n",
    "    first_team_name = []\n",
    "    second_team_name = []\n",
    "    first_team = True\n",
    "\n",
    "    \n",
    "\n",
    "    for i in r.split(\",\")[x].split(\" \"):\n",
    "        try:\n",
    "            type(int(i)) == int\n",
    "            first_team_points = i\n",
    "            #first_team_name = \" \".join(first_team_name)\n",
    "            first_team = False\n",
    "            \n",
    "        except ValueError:\n",
    "            first_team_name.append(i)\n",
    "            #first_team_name += str(i)\n",
    "                \n",
    "        try:\n",
    "            type(int(i)) == int\n",
    "            second_team_points = i\n",
    "            #second_team_name = \" \".join(second_team_name)\n",
    "            \n",
    "        except ValueError:\n",
    "            second_team_name.append(i)\n",
    "            #second_team_name += str(i)\n",
    "\n",
    "    #print(first_team_name, first_team_points, second_team_name, second_team_points)\n",
    "    first_team_points = int(first_team_points)\n",
    "    second_team_points = int(second_team_points)\n",
    "\n",
    "    if first_team_name in list(master_dictionary.keys()):\n",
    "        master_dictionary[first_team_name]['Scored'] = master_dictionary[first_team_name]['Scored'] + first_team_points \n",
    "        master_dictionary[first_team_name]['Conceded'] = master_dictionary[first_team_name]['Conceded'] + second_team_points\n",
    "\n",
    "        if first_team_points > second_team_points:\n",
    "            master_dictionary[first_team_name]['num_wins'] += 1\n",
    "            master_dictionary[first_team_name]['num_draws'] += 0\n",
    "            master_dictionary[first_team_name]['num_losses'] += 0\n",
    "\n",
    "        elif first_team_points == second_team_points:\n",
    "            master_dictionary[first_team_name]['num_wins'] += 0\n",
    "            master_dictionary[first_team_name]['num_draws'] += 1\n",
    "            master_dictionary[first_team_name]['num_losses'] += 0\n",
    "\n",
    "        elif first_team_points < second_team_points:\n",
    "            master_dictionary[first_team_name]['num_wins'] += 0\n",
    "            master_dictionary[first_team_name]['num_draws'] += 0\n",
    "            master_dictionary[first_team_name]['num_losses'] += 1\n",
    "\n",
    "\n",
    "\n",
    "\n",
    "    else:\n",
    "        #master_dictionary.update({first_team_name: {'Scored': first_team_points}})\n",
    "        master_dictionary[first_team_name] = {}\n",
    "        master_dictionary[first_team_name]['Scored'] = first_team_points\n",
    "        master_dictionary[first_team_name]['Conceded'] = second_team_points\n",
    "\n",
    "        if first_team_points > second_team_points:\n",
    "            master_dictionary[first_team_name]['num_wins'] = 1\n",
    "            master_dictionary[first_team_name]['num_draws'] = 0\n",
    "            master_dictionary[first_team_name]['num_losses'] = 0\n",
    "\n",
    "        elif first_team_points == second_team_points:\n",
    "            master_dictionary[first_team_name]['num_wins'] = 0\n",
    "            master_dictionary[first_team_name]['num_draws'] = 1\n",
    "            master_dictionary[first_team_name]['num_losses'] = 0\n",
    "\n",
    "        elif first_team_points < second_team_points:\n",
    "            master_dictionary[first_team_name]['num_wins'] = 0\n",
    "            master_dictionary[first_team_name]['num_draws'] = 0\n",
    "            master_dictionary[first_team_name]['num_losses'] = 1\n",
    "\n",
    "master_dictionary"
   ]
  },
  {
   "cell_type": "code",
   "execution_count": null,
   "metadata": {},
   "outputs": [],
   "source": []
  },
  {
   "cell_type": "code",
   "execution_count": 28,
   "metadata": {},
   "outputs": [
    {
     "data": {
      "text/plain": [
       "27"
      ]
     },
     "execution_count": 28,
     "metadata": {},
     "output_type": "execute_result"
    }
   ],
   "source": [
    "len(list(master_dictionary.keys()))"
   ]
  },
  {
   "cell_type": "code",
   "execution_count": 41,
   "metadata": {},
   "outputs": [
    {
     "ename": "ValueError",
     "evalue": "invalid literal for int() with base 10: '76ers'",
     "output_type": "error",
     "traceback": [
      "\u001b[0;31m---------------------------------------------------------------------------\u001b[0m",
      "\u001b[0;31mValueError\u001b[0m                                Traceback (most recent call last)",
      "\u001b[0;32m<ipython-input-41-38ea8a211cbd>\u001b[0m in \u001b[0;36m<module>\u001b[0;34m\u001b[0m\n\u001b[0;32m----> 1\u001b[0;31m \u001b[0mint\u001b[0m\u001b[0;34m(\u001b[0m\u001b[0mr\u001b[0m\u001b[0;34m.\u001b[0m\u001b[0msplit\u001b[0m\u001b[0;34m(\u001b[0m\u001b[0;34m\",\"\u001b[0m\u001b[0;34m)\u001b[0m\u001b[0;34m[\u001b[0m\u001b[0;36m24\u001b[0m\u001b[0;34m]\u001b[0m\u001b[0;34m.\u001b[0m\u001b[0msplit\u001b[0m\u001b[0;34m(\u001b[0m\u001b[0;34m\" \"\u001b[0m\u001b[0;34m)\u001b[0m\u001b[0;34m[\u001b[0m\u001b[0;36m4\u001b[0m\u001b[0;34m]\u001b[0m\u001b[0;34m)\u001b[0m\u001b[0;34m\u001b[0m\u001b[0m\n\u001b[0m",
      "\u001b[0;31mValueError\u001b[0m: invalid literal for int() with base 10: '76ers'"
     ]
    }
   ],
   "source": [
    "int(r.split(\",\")[24].split(\" \")[4])"
   ]
  },
  {
   "cell_type": "code",
   "execution_count": 32,
   "metadata": {},
   "outputs": [
    {
     "data": {
      "text/plain": [
       "dict_keys(['Cleveland Cavaliers'])"
      ]
     },
     "execution_count": 32,
     "metadata": {},
     "output_type": "execute_result"
    }
   ],
   "source": [
    "master_dictionary = {}\n",
    "\n",
    "for i in r.split(\",\")[24].split(\" \"):\n",
    "    if first_team == True:\n",
    "        if i.isdigit():# and i !='76ers':\n",
    "            first_team_points = i\n",
    "            first_team_name = \" \".join(first_team_name)\n",
    "            first_team = False\n",
    "        else:\n",
    "            #first_team_name.append(i)\n",
    "            first_team_name += i\n",
    "\n",
    "    else:\n",
    "        if i.isdigit():# and i != '76ers':\n",
    "            second_team_points = i\n",
    "            second_team_name = \" \".join(second_team_name)\n",
    "        else:\n",
    "            #second_team_name.append(i)\n",
    "            second_team_name += i\n",
    "\n",
    "#print(first_team_name, first_team_points, second_team_name, second_team_points)\n",
    "first_team_points = int(first_team_points)\n",
    "second_team_points = int(second_team_points)\n",
    "\n",
    "if first_team_name in list(master_dictionary.keys()):\n",
    "    master_dictionary[first_team_name]['Scored'] = master_dictionary[first_team_name]['Scored'] + first_team_points \n",
    "    master_dictionary[first_team_name]['Conceded'] = master_dictionary[first_team_name]['Conceded'] + second_team_points\n",
    "\n",
    "    if first_team_points > second_team_points:\n",
    "        master_dictionary[first_team_name]['num_wins'] += 1\n",
    "        master_dictionary[first_team_name]['num_draws'] += 0\n",
    "        master_dictionary[first_team_name]['num_losses'] += 0\n",
    "\n",
    "    elif first_team_points == second_team_points:\n",
    "        master_dictionary[first_team_name]['num_wins'] += 0\n",
    "        master_dictionary[first_team_name]['num_draws'] += 1\n",
    "        master_dictionary[first_team_name]['num_losses'] += 0\n",
    "\n",
    "    elif first_team_points < second_team_points:\n",
    "        master_dictionary[first_team_name]['num_wins'] += 0\n",
    "        master_dictionary[first_team_name]['num_draws'] += 0\n",
    "        master_dictionary[first_team_name]['num_losses'] += 1\n",
    "\n",
    "\n",
    "\n",
    "\n",
    "else:\n",
    "    #master_dictionary.update({first_team_name: {'Scored': first_team_points}})\n",
    "    master_dictionary[first_team_name] = {}\n",
    "    master_dictionary[first_team_name]['Scored'] = first_team_points\n",
    "    master_dictionary[first_team_name]['Conceded'] = second_team_points\n",
    "\n",
    "    if first_team_points > second_team_points:\n",
    "        master_dictionary[first_team_name]['num_wins'] = 1\n",
    "        master_dictionary[first_team_name]['num_draws'] = 0\n",
    "        master_dictionary[first_team_name]['num_losses'] = 0\n",
    "\n",
    "    elif first_team_points == second_team_points:\n",
    "        master_dictionary[first_team_name]['num_wins'] = 0\n",
    "        master_dictionary[first_team_name]['num_draws'] = 1\n",
    "        master_dictionary[first_team_name]['num_losses'] = 0\n",
    "\n",
    "    elif first_team_points < second_team_points:\n",
    "        master_dictionary[first_team_name]['num_wins'] = 0\n",
    "        master_dictionary[first_team_name]['num_draws'] = 0\n",
    "        master_dictionary[first_team_name]['num_losses'] = 1\n",
    "\n",
    "master_dictionary.keys()"
   ]
  },
  {
   "cell_type": "code",
   "execution_count": 15,
   "metadata": {},
   "outputs": [
    {
     "data": {
      "text/plain": [
       "{'Los Angeles Clippers': {'Scored': 104,\n",
       "  'Conceded': 88,\n",
       "  'num_wins': 1,\n",
       "  'num_draws': 0,\n",
       "  'num_losses': 0}}"
      ]
     },
     "execution_count": 15,
     "metadata": {},
     "output_type": "execute_result"
    }
   ],
   "source": [
    "master_dictionary"
   ]
  },
  {
   "cell_type": "code",
   "execution_count": 122,
   "metadata": {},
   "outputs": [],
   "source": [
    "master_dictionary['Los Angeles Clippers'] = 0"
   ]
  },
  {
   "cell_type": "code",
   "execution_count": 123,
   "metadata": {},
   "outputs": [
    {
     "data": {
      "text/plain": [
       "{'Los Angeles Clippers': 0}"
      ]
     },
     "execution_count": 123,
     "metadata": {},
     "output_type": "execute_result"
    }
   ],
   "source": [
    "master_dictionary"
   ]
  },
  {
   "cell_type": "code",
   "execution_count": null,
   "metadata": {},
   "outputs": [],
   "source": [
    "if master_dictionary[first_team_name] != \"\":\n",
    "        master_dictionary[first_team_name]['Scored'] = master_dictionary[first_team_name]['Scored'] + first_team_points \n",
    "        master_dictionary[first_team_name]['Conceded'] = master_dictionary[first_team_name]['Conceded'] + second_team_points\n",
    "            \n",
    "else:\n",
    "    master_dictionary.update({first_team_name: {'Scored': first_team_points}})\n",
    "    master_dictionary.update({first_team_name: {'Conceded': second_team_points}})\n",
    "        \n",
    "master_dictionary"
   ]
  },
  {
   "cell_type": "code",
   "execution_count": 105,
   "metadata": {},
   "outputs": [
    {
     "data": {
      "text/plain": [
       "{'Los Angeles Clippers': {'Scored': 10}}"
      ]
     },
     "execution_count": 105,
     "metadata": {},
     "output_type": "execute_result"
    }
   ],
   "source": [
    "master_dictionary"
   ]
  },
  {
   "cell_type": "code",
   "execution_count": 97,
   "metadata": {},
   "outputs": [],
   "source": [
    "master_dictionary.update({first_team_name: {'Scored': 5}})"
   ]
  },
  {
   "cell_type": "code",
   "execution_count": 99,
   "metadata": {},
   "outputs": [
    {
     "data": {
      "text/plain": [
       "{'Los Angeles Clippers': {'Scored': 5}}"
      ]
     },
     "execution_count": 99,
     "metadata": {},
     "output_type": "execute_result"
    }
   ],
   "source": [
    "master_dictionary"
   ]
  },
  {
   "cell_type": "code",
   "execution_count": 104,
   "metadata": {},
   "outputs": [],
   "source": [
    "master_dictionary['Los Angeles Clippers']['Scored'] = master_dictionary['Los Angeles Clippers']['Scored'] + 5"
   ]
  },
  {
   "cell_type": "code",
   "execution_count": 90,
   "metadata": {},
   "outputs": [],
   "source": [
    "first_team_name = 'Los Angeles Clippers'"
   ]
  },
  {
   "cell_type": "code",
   "execution_count": 92,
   "metadata": {},
   "outputs": [],
   "source": [
    "master_dictionary[first_team_name]: 5"
   ]
  },
  {
   "cell_type": "code",
   "execution_count": 93,
   "metadata": {},
   "outputs": [
    {
     "data": {
      "text/plain": [
       "{}"
      ]
     },
     "execution_count": 93,
     "metadata": {},
     "output_type": "execute_result"
    }
   ],
   "source": [
    "master_dictionary"
   ]
  },
  {
   "cell_type": "code",
   "execution_count": null,
   "metadata": {},
   "outputs": [],
   "source": []
  },
  {
   "cell_type": "code",
   "execution_count": 85,
   "metadata": {
    "scrolled": true
   },
   "outputs": [
    {
     "data": {
      "text/plain": [
       "[]"
      ]
     },
     "execution_count": 85,
     "metadata": {},
     "output_type": "execute_result"
    }
   ],
   "source": [
    "list(master_dictionary.keys())"
   ]
  },
  {
   "cell_type": "code",
   "execution_count": 83,
   "metadata": {},
   "outputs": [],
   "source": [
    "master_dictionary = {}"
   ]
  },
  {
   "cell_type": "code",
   "execution_count": 74,
   "metadata": {},
   "outputs": [],
   "source": [
    "master_dictionary['Los Angeles Clippers'] = {}"
   ]
  },
  {
   "cell_type": "code",
   "execution_count": null,
   "metadata": {},
   "outputs": [],
   "source": []
  },
  {
   "cell_type": "code",
   "execution_count": 75,
   "metadata": {},
   "outputs": [],
   "source": [
    "master_dictionary['Los Angeles Clippers']['Scored'] = 120"
   ]
  },
  {
   "cell_type": "code",
   "execution_count": 77,
   "metadata": {},
   "outputs": [
    {
     "data": {
      "text/plain": [
       "{'Scored': 120}"
      ]
     },
     "execution_count": 77,
     "metadata": {},
     "output_type": "execute_result"
    }
   ],
   "source": [
    "master_dictionary['Los Angeles Clippers']"
   ]
  },
  {
   "cell_type": "code",
   "execution_count": null,
   "metadata": {},
   "outputs": [],
   "source": [
    "for i in r.split(\",\")[0].split(\" \"):\n",
    "    first_team = True\n",
    "    second_team = False\n",
    "    \n",
    "    while first_team == True:\n",
    "        first_team_name = []\n",
    "        if i.isdigit():\n",
    "            first_wins = i\n",
    "            first_team = False\n",
    "            second_team = True\n",
    "        else:\n",
    "            first_team_name.append(i)\n",
    "            \n",
    "    while second_team == True:\n",
    "        second_team_name = []\n",
    "        if i.isdigit():\n",
    "            second_wins = i\n",
    "            second_team = False\n",
    "        else:\n",
    "            second_team_name.append(i)\n",
    "            \n",
    "return first_team_name, second_team_name"
   ]
  },
  {
   "cell_type": "code",
   "execution_count": null,
   "metadata": {},
   "outputs": [],
   "source": []
  },
  {
   "cell_type": "code",
   "execution_count": 11,
   "metadata": {},
   "outputs": [
    {
     "name": "stdout",
     "output_type": "stream",
     "text": [
      "81\n",
      "65\n"
     ]
    }
   ],
   "source": [
    "for i in r.split(\",\")[24].split(\" \"):\n",
    "    first  = \"\"\n",
    "    second = \"\"\n",
    "    third  = \"\"\n",
    "    fourth = \"\"\n",
    "    fifth  = \"\"\n",
    "    sixth  = \"\"\n",
    "    \n",
    "    if i.isdigit():\n",
    "        first_team_wins = i\n",
    "    "
   ]
  },
  {
   "cell_type": "code",
   "execution_count": null,
   "metadata": {},
   "outputs": [],
   "source": [
    "def nba_cup(result_sheet, to_find):\n",
    "    "
   ]
  }
 ],
 "metadata": {
  "kernelspec": {
   "display_name": "Python 3",
   "language": "python",
   "name": "python3"
  },
  "language_info": {
   "codemirror_mode": {
    "name": "ipython",
    "version": 3
   },
   "file_extension": ".py",
   "mimetype": "text/x-python",
   "name": "python",
   "nbconvert_exporter": "python",
   "pygments_lexer": "ipython3",
   "version": "3.6.5"
  }
 },
 "nbformat": 4,
 "nbformat_minor": 2
}
