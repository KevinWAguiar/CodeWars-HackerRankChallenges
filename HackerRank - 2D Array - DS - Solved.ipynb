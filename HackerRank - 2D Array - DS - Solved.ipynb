{
 "cells": [
  {
   "cell_type": "markdown",
   "metadata": {},
   "source": [
    "# 2D - Array - DS\n",
    "\n",
    "url:  https://www.hackerrank.com/challenges/2d-array/problem?h_l=interview&playlist_slugs%5B%5D=interview-preparation-kit&playlist_slugs%5B%5D=arrays"
   ]
  },
  {
   "cell_type": "markdown",
   "metadata": {},
   "source": [
    "## My Response:"
   ]
  },
  {
   "cell_type": "code",
   "execution_count": null,
   "metadata": {},
   "outputs": [],
   "source": [
    "import math\n",
    "import os\n",
    "import random\n",
    "import re\n",
    "import sys\n",
    "\n",
    "# Complete the hourglassSum function below.\n",
    "def hourglassSum(arr):\n",
    "    temp_list = []\n",
    "\n",
    "    for r in range(4):\n",
    "        for c in range(4):\n",
    "            temp_arr = arr[r][c] + arr[r][(c+1)] + arr[r][(c+2)] + arr[(r+1)][(c+1)] + arr[(r+2)][c] + arr[(r+2)][(c+1)] + arr[(r+2)][(c+2)]\n",
    "            temp_list.append(temp_arr)\n",
    "\n",
    "    return max(temp_list)"
   ]
  },
  {
   "cell_type": "markdown",
   "metadata": {},
   "source": [
    "---"
   ]
  },
  {
   "cell_type": "markdown",
   "metadata": {},
   "source": [
    "## Best Practice:"
   ]
  },
  {
   "cell_type": "code",
   "execution_count": null,
   "metadata": {},
   "outputs": [],
   "source": []
  },
  {
   "cell_type": "markdown",
   "metadata": {},
   "source": [
    "---"
   ]
  },
  {
   "cell_type": "markdown",
   "metadata": {},
   "source": [
    "## Scrap Work:"
   ]
  },
  {
   "cell_type": "code",
   "execution_count": null,
   "metadata": {},
   "outputs": [],
   "source": [
    "import math\n",
    "import os\n",
    "import random\n",
    "import re\n",
    "import sys\n",
    "\n",
    "# Complete the hourglassSum function below.\n",
    "def hourglassSum(arr):\n",
    "    temp_list = []\n",
    "\n",
    "    for r in range(4):\n",
    "        for c in range(4):\n",
    "            temp_arr = arr[r][c] + arr[r][(c+1)] + arr[r][(c+2)] + arr[(r+1)][(c+1)] + arr[(r+2)][c] + arr[(r+2)][(c+1)] + arr[(r+2)][(c+2)]\n",
    "            temp_list.append(temp_arr)\n",
    "\n",
    "    return max(temp_list)"
   ]
  },
  {
   "cell_type": "code",
   "execution_count": 17,
   "metadata": {},
   "outputs": [],
   "source": [
    "arr = [[-9, -9, -9, 1, 1, 1],\n",
    "        [0, -9, 0, 4, 3, 2],\n",
    "        [-9, -9, -9, 1, 2, 3],\n",
    "        [0, 0, 8, 6, 6, 0],\n",
    "        [0, 0, 0, -2, 0, 0],\n",
    "        [0, 0, 1, 2, 4, 0]]"
   ]
  },
  {
   "cell_type": "code",
   "execution_count": 18,
   "metadata": {},
   "outputs": [
    {
     "data": {
      "text/plain": [
       "-9"
      ]
     },
     "execution_count": 18,
     "metadata": {},
     "output_type": "execute_result"
    }
   ],
   "source": [
    "arr[0][1]"
   ]
  },
  {
   "cell_type": "code",
   "execution_count": 19,
   "metadata": {},
   "outputs": [
    {
     "data": {
      "text/plain": [
       "28"
      ]
     },
     "execution_count": 19,
     "metadata": {},
     "output_type": "execute_result"
    }
   ],
   "source": [
    "#r = 0\n",
    "#c = 0\n",
    "\n",
    "temp_list = []\n",
    "\n",
    "for r in range(4):\n",
    "    for c in range(4):\n",
    "        temp_arr = arr[r][c] + arr[r][(c+1)] + arr[r][(c+2)] + arr[(r+1)][(c+1)] + arr[(r+2)][c] + arr[(r+2)][(c+1)] + arr[(r+2)][(c+2)]\n",
    "        temp_list.append(temp_arr)\n",
    "\n",
    "max(temp_list)"
   ]
  },
  {
   "cell_type": "code",
   "execution_count": 13,
   "metadata": {},
   "outputs": [
    {
     "data": {
      "text/plain": [
       "[8, 5, 2, 0, 4, 8, 10, 8, 3, 6, 7, 6, 3, 9, 19, 14]"
      ]
     },
     "execution_count": 13,
     "metadata": {},
     "output_type": "execute_result"
    }
   ],
   "source": [
    "temp_list"
   ]
  },
  {
   "cell_type": "code",
   "execution_count": null,
   "metadata": {},
   "outputs": [],
   "source": []
  }
 ],
 "metadata": {
  "kernelspec": {
   "display_name": "Python 3",
   "language": "python",
   "name": "python3"
  },
  "language_info": {
   "codemirror_mode": {
    "name": "ipython",
    "version": 3
   },
   "file_extension": ".py",
   "mimetype": "text/x-python",
   "name": "python",
   "nbconvert_exporter": "python",
   "pygments_lexer": "ipython3",
   "version": "3.6.5"
  }
 },
 "nbformat": 4,
 "nbformat_minor": 2
}
