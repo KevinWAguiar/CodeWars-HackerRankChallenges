{
 "cells": [
  {
   "cell_type": "markdown",
   "metadata": {},
   "source": [
    "# Solved - Plus Minus - HackerRank\n",
    "\n",
    "url:  https://www.hackerrank.com/challenges/plus-minus/problem?h_r=next-challenge&h_v=zen&h_r=next-challenge&h_v=zen&h_r=next-challenge&h_v=zen&h_r=next-challenge&h_v=zen&h_r=next-challenge&h_v=zen"
   ]
  },
  {
   "cell_type": "markdown",
   "metadata": {},
   "source": [
    "## My Response:"
   ]
  },
  {
   "cell_type": "code",
   "execution_count": null,
   "metadata": {},
   "outputs": [],
   "source": [
    "def plusMinus(arr):\n",
    "    quot = len(arr)\n",
    "    pos = 0\n",
    "    neg = 0\n",
    "    zero = 0\n",
    "    \n",
    "    for i in arr:\n",
    "        if i < 0:\n",
    "            neg += 1\n",
    "        elif i > 0:\n",
    "            pos += 1\n",
    "        else:\n",
    "            zero += 1\n",
    "            \n",
    "    print(pos/quot)\n",
    "    print(neg/quot)\n",
    "    print(zero/quot) "
   ]
  },
  {
   "cell_type": "markdown",
   "metadata": {},
   "source": [
    "---"
   ]
  },
  {
   "cell_type": "markdown",
   "metadata": {},
   "source": [
    "## Best Practice:"
   ]
  },
  {
   "cell_type": "code",
   "execution_count": null,
   "metadata": {},
   "outputs": [],
   "source": []
  },
  {
   "cell_type": "markdown",
   "metadata": {},
   "source": [
    "---"
   ]
  },
  {
   "cell_type": "markdown",
   "metadata": {},
   "source": [
    "## Scrap Work:"
   ]
  },
  {
   "cell_type": "code",
   "execution_count": 1,
   "metadata": {},
   "outputs": [],
   "source": [
    "def plusMinus(arr):\n",
    "    quot = len(arr)\n",
    "    pos = 0\n",
    "    neg = 0\n",
    "    zero = 0\n",
    "    \n",
    "    for i in arr:\n",
    "        if i < 0:\n",
    "            neg += 1\n",
    "        elif i > 0:\n",
    "            pos += 1\n",
    "        else:\n",
    "            zero += 1\n",
    "            \n",
    "    print(pos/quot)\n",
    "    print(neg/quot)\n",
    "    print(zero/quot)  "
   ]
  },
  {
   "cell_type": "code",
   "execution_count": null,
   "metadata": {},
   "outputs": [],
   "source": []
  }
 ],
 "metadata": {
  "kernelspec": {
   "display_name": "Python 3",
   "language": "python",
   "name": "python3"
  },
  "language_info": {
   "codemirror_mode": {
    "name": "ipython",
    "version": 3
   },
   "file_extension": ".py",
   "mimetype": "text/x-python",
   "name": "python",
   "nbconvert_exporter": "python",
   "pygments_lexer": "ipython3",
   "version": "3.6.5"
  }
 },
 "nbformat": 4,
 "nbformat_minor": 2
}
