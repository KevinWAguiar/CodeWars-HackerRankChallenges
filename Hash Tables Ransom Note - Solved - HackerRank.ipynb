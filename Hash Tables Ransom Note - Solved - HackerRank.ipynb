{
 "cells": [
  {
   "cell_type": "markdown",
   "metadata": {},
   "source": [
    "# Hash Tables: Ransom Note - Sovled - HackerRank\n",
    "\n",
    "url:  https://www.hackerrank.com/challenges/ctci-ransom-note/problem?h_l=interview&playlist_slugs%5B%5D=interview-preparation-kit&playlist_slugs%5B%5D=dictionaries-hashmaps\n",
    "\n",
    "help:  https://codereview.stackexchange.com/questions/180287/hackerrank-ransom-note-challenge"
   ]
  },
  {
   "cell_type": "markdown",
   "metadata": {},
   "source": [
    "## My Response:"
   ]
  },
  {
   "cell_type": "code",
   "execution_count": 15,
   "metadata": {},
   "outputs": [],
   "source": [
    "#  This approach worked for all but two, in which it timed out; this is not a true\n",
    "# Hash Table approach, for it is checking through the magazine list, rather than building\n",
    "# a Count of words in the magazine and note, which considerably reduced \n",
    "# the execution time (from O (m * n) to O (m + n))\n",
    "\n",
    "def checkMagazine(magazine, note):\n",
    "    trigger = False\n",
    "    \n",
    "    for word in note:\n",
    "        if word in magazine:\n",
    "            magazine.remove(word)\n",
    "            trigger = True\n",
    "            \n",
    "        \n",
    "        else:\n",
    "            trigger = False\n",
    "            print('No')\n",
    "            break\n",
    "        \n",
    "    if trigger:\n",
    "        print('Yes')"
   ]
  },
  {
   "cell_type": "markdown",
   "metadata": {},
   "source": [
    "---"
   ]
  },
  {
   "cell_type": "markdown",
   "metadata": {},
   "source": [
    "## Best Practice:"
   ]
  },
  {
   "cell_type": "code",
   "execution_count": 23,
   "metadata": {},
   "outputs": [],
   "source": [
    "def checkMagazine(magazine, note):\n",
    "    from collections import Counter\n",
    "    \n",
    "    note_ = Counter(note)\n",
    "    magazine_ = Counter(magazine)\n",
    "    print('Yes') if len(note_ - magazine_) == 0 else print('No')"
   ]
  },
  {
   "cell_type": "markdown",
   "metadata": {},
   "source": [
    "---"
   ]
  },
  {
   "cell_type": "markdown",
   "metadata": {},
   "source": [
    "## Scrap Work:"
   ]
  },
  {
   "cell_type": "code",
   "execution_count": 9,
   "metadata": {},
   "outputs": [],
   "source": [
    "def checkMagazine(magazine, note):\n",
    "    mag_list = magazine.split()\n",
    "    note_list = note.split()\n",
    "    \n",
    "    print('Yes' if note_list in mag_list else 'No')"
   ]
  },
  {
   "cell_type": "code",
   "execution_count": 23,
   "metadata": {},
   "outputs": [],
   "source": [
    "def checkMagazine(magazine, note):\n",
    "    from collections import Counter\n",
    "    \n",
    "    note_ = Counter(note)\n",
    "    magazine_ = Counter(magazine)\n",
    "    print(note_)\n",
    "    print(magazine_)\n",
    "    print(note_ - magazine_)\n",
    "    print('Yes') if len(note_ - magazine_) == 0 else print('No')"
   ]
  },
  {
   "cell_type": "code",
   "execution_count": 24,
   "metadata": {
    "scrolled": true
   },
   "outputs": [
    {
     "name": "stdout",
     "output_type": "stream",
     "text": [
      "Counter({' ': 4, 't': 3, 'o': 3, 'w': 2, 'i': 2, 's': 2, 'm': 1, 'e': 1, 'f': 1, 'u': 1, 'r': 1})\n",
      "Counter({' ': 5, 't': 4, 'o': 3, 'e': 3, 'i': 2, 's': 2, 'r': 2, 'w': 1, 'm': 1, 'h': 1, 'n': 1, 'f': 1, 'u': 1})\n",
      "Counter({'w': 1})\n",
      "No\n"
     ]
    }
   ],
   "source": [
    "checkMagazine('two times three is not four', 'two times two is four')"
   ]
  },
  {
   "cell_type": "code",
   "execution_count": 25,
   "metadata": {},
   "outputs": [
    {
     "name": "stdout",
     "output_type": "stream",
     "text": [
      "Counter({' ': 3, 'g': 2, 'e': 2, 'o': 2, 'n': 2, 'a': 2, 'd': 2, 'i': 1, 'v': 1, 'r': 1, 't': 1, 'y': 1})\n",
      "Counter({' ': 5, 'g': 3, 'e': 3, 'n': 3, 'i': 2, 'o': 2, 'a': 2, 'd': 2, 't': 2, 'v': 1, 'm': 1, 'r': 1, 'y': 1, 'h': 1})\n",
      "Counter()\n",
      "Yes\n"
     ]
    }
   ],
   "source": [
    "checkMagazine('give me one grand today night', 'give one grand today')"
   ]
  },
  {
   "cell_type": "code",
   "execution_count": 13,
   "metadata": {},
   "outputs": [],
   "source": [
    "def checkMagazine(magazine, note):\n",
    "    trigger = False\n",
    "    \n",
    "    for word in note:\n",
    "        if word in magazine:\n",
    "            magazine.remove(word)\n",
    "            trigger = True\n",
    "            \n",
    "        \n",
    "        else:\n",
    "            trigger = False\n",
    "            print('No')\n",
    "            break\n",
    "        \n",
    "    if trigger:\n",
    "        print('Yes')"
   ]
  },
  {
   "cell_type": "code",
   "execution_count": 14,
   "metadata": {
    "scrolled": false
   },
   "outputs": [
    {
     "name": "stdout",
     "output_type": "stream",
     "text": [
      "No\n"
     ]
    }
   ],
   "source": [
    "checkMagazine(mag, note)"
   ]
  },
  {
   "cell_type": "code",
   "execution_count": 3,
   "metadata": {},
   "outputs": [],
   "source": [
    "mag = 'two times three is not four'.split()"
   ]
  },
  {
   "cell_type": "code",
   "execution_count": 4,
   "metadata": {},
   "outputs": [
    {
     "data": {
      "text/plain": [
       "['two', 'times', 'three', 'is', 'not', 'four']"
      ]
     },
     "execution_count": 4,
     "metadata": {},
     "output_type": "execute_result"
    }
   ],
   "source": [
    "mag"
   ]
  },
  {
   "cell_type": "code",
   "execution_count": 12,
   "metadata": {},
   "outputs": [
    {
     "ename": "ValueError",
     "evalue": "'keVIN' is not in list",
     "output_type": "error",
     "traceback": [
      "\u001b[0;31m---------------------------------------------------------------------------\u001b[0m",
      "\u001b[0;31mValueError\u001b[0m                                Traceback (most recent call last)",
      "\u001b[0;32m<ipython-input-12-3dca5f693524>\u001b[0m in \u001b[0;36m<module>\u001b[0;34m\u001b[0m\n\u001b[0;32m----> 1\u001b[0;31m \u001b[0mprint\u001b[0m\u001b[0;34m(\u001b[0m\u001b[0;34m'Yes'\u001b[0m\u001b[0;34m)\u001b[0m \u001b[0;32mif\u001b[0m \u001b[0mmag\u001b[0m\u001b[0;34m.\u001b[0m\u001b[0mindex\u001b[0m\u001b[0;34m(\u001b[0m\u001b[0;34m'keVIN'\u001b[0m\u001b[0;34m)\u001b[0m \u001b[0;34m>\u001b[0m \u001b[0;36m0\u001b[0m \u001b[0;32melse\u001b[0m \u001b[0mprint\u001b[0m\u001b[0;34m(\u001b[0m\u001b[0;34m'No'\u001b[0m\u001b[0;34m)\u001b[0m\u001b[0;34m\u001b[0m\u001b[0m\n\u001b[0m",
      "\u001b[0;31mValueError\u001b[0m: 'keVIN' is not in list"
     ]
    }
   ],
   "source": [
    "print('Yes') if mag.index('keVIN') > 0 else print('No')"
   ]
  },
  {
   "cell_type": "code",
   "execution_count": 5,
   "metadata": {},
   "outputs": [],
   "source": [
    "note = 'two times two is four'.split()"
   ]
  },
  {
   "cell_type": "code",
   "execution_count": 6,
   "metadata": {},
   "outputs": [
    {
     "data": {
      "text/plain": [
       "['two', 'times', 'two', 'is', 'four']"
      ]
     },
     "execution_count": 6,
     "metadata": {},
     "output_type": "execute_result"
    }
   ],
   "source": [
    "note"
   ]
  },
  {
   "cell_type": "code",
   "execution_count": 43,
   "metadata": {},
   "outputs": [
    {
     "name": "stdout",
     "output_type": "stream",
     "text": [
      "Yes\n",
      "Yes\n",
      "Yes\n",
      "Yes\n",
      "Yes\n"
     ]
    }
   ],
   "source": [
    "mag_list = ['two', 'times', 'three', 'is', 'not', 'four']\n",
    "note_list = ['two', 'times', 'two', 'is', 'four']\n",
    "\n",
    "for word in note_list:\n",
    "    print('Yes') if word in mag_list else print('No')"
   ]
  },
  {
   "cell_type": "code",
   "execution_count": null,
   "metadata": {},
   "outputs": [],
   "source": []
  },
  {
   "cell_type": "code",
   "execution_count": null,
   "metadata": {},
   "outputs": [],
   "source": []
  },
  {
   "cell_type": "code",
   "execution_count": null,
   "metadata": {},
   "outputs": [],
   "source": []
  },
  {
   "cell_type": "code",
   "execution_count": 26,
   "metadata": {},
   "outputs": [
    {
     "name": "stdout",
     "output_type": "stream",
     "text": [
      "Yes\n"
     ]
    }
   ],
   "source": [
    "checkMagazine('give me one grand today night', 'give one grand today')"
   ]
  },
  {
   "cell_type": "code",
   "execution_count": null,
   "metadata": {},
   "outputs": [],
   "source": []
  },
  {
   "cell_type": "code",
   "execution_count": null,
   "metadata": {},
   "outputs": [],
   "source": []
  }
 ],
 "metadata": {
  "kernelspec": {
   "display_name": "Python 3",
   "language": "python",
   "name": "python3"
  },
  "language_info": {
   "codemirror_mode": {
    "name": "ipython",
    "version": 3
   },
   "file_extension": ".py",
   "mimetype": "text/x-python",
   "name": "python",
   "nbconvert_exporter": "python",
   "pygments_lexer": "ipython3",
   "version": "3.6.5"
  }
 },
 "nbformat": 4,
 "nbformat_minor": 2
}
