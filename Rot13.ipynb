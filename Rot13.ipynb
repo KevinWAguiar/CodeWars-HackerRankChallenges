{
 "cells": [
  {
   "cell_type": "code",
   "execution_count": 62,
   "metadata": {},
   "outputs": [],
   "source": [
    "import string\n",
    "from codecs import encode as _dont_use_this_\n",
    "\n",
    "def rot13(message):\n",
    "    import string\n",
    "\n",
    "    lower = string.ascii_lowercase\n",
    "    upper = string.ascii_uppercase\n",
    "    empty_string = \"\"\n",
    "    \n",
    "    for i in range(len(message)):\n",
    "        if message[i] in lower:\n",
    "            try:\n",
    "                empty_string += string.ascii_lowercase[(string.ascii_lowercase.index(message[i]) + 13)]\n",
    "            except IndexError:\n",
    "                empty_string += string.ascii_lowercase[(string.ascii_lowercase.index(message[i]) + 13 - 26)]\n",
    "        \n",
    "        elif message[i] in upper:\n",
    "            try:\n",
    "                empty_string += string.ascii_uppercase[(string.ascii_uppercase.index(message[i]) + 13)]\n",
    "            except IndexError:\n",
    "                empty_string += string.ascii_uppercase[(string.ascii_uppercase.index(message[i]) + 13 - 26)]\n",
    "        \n",
    "        else:\n",
    "            empty_string += message[i]\n",
    "            \n",
    "    return empty_string"
   ]
  }
 ],
 "metadata": {
  "kernelspec": {
   "display_name": "Python 3",
   "language": "python",
   "name": "python3"
  },
  "language_info": {
   "codemirror_mode": {
    "name": "ipython",
    "version": 3
   },
   "file_extension": ".py",
   "mimetype": "text/x-python",
   "name": "python",
   "nbconvert_exporter": "python",
   "pygments_lexer": "ipython3",
   "version": "3.6.5"
  }
 },
 "nbformat": 4,
 "nbformat_minor": 2
}
