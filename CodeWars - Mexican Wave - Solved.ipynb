{
 "cells": [
  {
   "cell_type": "markdown",
   "metadata": {},
   "source": [
    "# Mexican Wave\n",
    "\n",
    "https://www.codewars.com/kata/mexican-wave/train/python"
   ]
  },
  {
   "cell_type": "markdown",
   "metadata": {},
   "source": [
    "## My Response:"
   ]
  },
  {
   "cell_type": "code",
   "execution_count": 51,
   "metadata": {},
   "outputs": [],
   "source": [
    "def wave(str):\n",
    "    temp_list = []\n",
    "\n",
    "    for i in range(len(str)):\n",
    "        if str[i] == \" \":\n",
    "            continue\n",
    "        else:\n",
    "            if i == 0:\n",
    "                word = str[i].upper() + str[(i+1):]\n",
    "                temp_list.append(word)\n",
    "            elif i == (len(str)-1):\n",
    "                word = str[:i] + str[(i):].upper()\n",
    "                temp_list.append(word)\n",
    "            else:\n",
    "                word = str[:i] + str[i:(i+1)].upper() + str[(i+1):]\n",
    "                temp_list.append(word)\n",
    "\n",
    "    return temp_list"
   ]
  },
  {
   "cell_type": "code",
   "execution_count": 52,
   "metadata": {},
   "outputs": [
    {
     "data": {
      "text/plain": [
       "['Hello', 'hEllo', 'heLlo', 'helLo', 'hellO']"
      ]
     },
     "execution_count": 52,
     "metadata": {},
     "output_type": "execute_result"
    }
   ],
   "source": [
    "wave('hello')"
   ]
  },
  {
   "cell_type": "code",
   "execution_count": 53,
   "metadata": {
    "scrolled": true
   },
   "outputs": [
    {
     "data": {
      "text/plain": [
       "['Two words',\n",
       " 'tWo words',\n",
       " 'twO words',\n",
       " 'two Words',\n",
       " 'two wOrds',\n",
       " 'two woRds',\n",
       " 'two worDs',\n",
       " 'two wordS']"
      ]
     },
     "execution_count": 53,
     "metadata": {},
     "output_type": "execute_result"
    }
   ],
   "source": [
    "wave('two words')"
   ]
  },
  {
   "cell_type": "code",
   "execution_count": 54,
   "metadata": {},
   "outputs": [
    {
     "data": {
      "text/plain": [
       "['  Gap  ', '  gAp  ', '  gaP  ']"
      ]
     },
     "execution_count": 54,
     "metadata": {},
     "output_type": "execute_result"
    }
   ],
   "source": [
    "wave('  gap  ')"
   ]
  },
  {
   "cell_type": "markdown",
   "metadata": {},
   "source": [
    "---"
   ]
  },
  {
   "cell_type": "markdown",
   "metadata": {},
   "source": [
    "## Best Practice:"
   ]
  },
  {
   "cell_type": "code",
   "execution_count": 55,
   "metadata": {},
   "outputs": [],
   "source": [
    "def wave(str):\n",
    "    return [str[:i] + str[i].upper() + str[i+1:] for i in range(len(str)) if str[i].isalpha()]"
   ]
  },
  {
   "cell_type": "code",
   "execution_count": 56,
   "metadata": {},
   "outputs": [
    {
     "data": {
      "text/plain": [
       "['Hello', 'hEllo', 'heLlo', 'helLo', 'hellO']"
      ]
     },
     "execution_count": 56,
     "metadata": {},
     "output_type": "execute_result"
    }
   ],
   "source": [
    "wave('hello')"
   ]
  },
  {
   "cell_type": "code",
   "execution_count": 57,
   "metadata": {
    "scrolled": true
   },
   "outputs": [
    {
     "data": {
      "text/plain": [
       "['Two words',\n",
       " 'tWo words',\n",
       " 'twO words',\n",
       " 'two Words',\n",
       " 'two wOrds',\n",
       " 'two woRds',\n",
       " 'two worDs',\n",
       " 'two wordS']"
      ]
     },
     "execution_count": 57,
     "metadata": {},
     "output_type": "execute_result"
    }
   ],
   "source": [
    "wave('two words')"
   ]
  },
  {
   "cell_type": "code",
   "execution_count": 58,
   "metadata": {},
   "outputs": [
    {
     "data": {
      "text/plain": [
       "['  Gap  ', '  gAp  ', '  gaP  ']"
      ]
     },
     "execution_count": 58,
     "metadata": {},
     "output_type": "execute_result"
    }
   ],
   "source": [
    "wave('  gap  ')"
   ]
  },
  {
   "cell_type": "markdown",
   "metadata": {},
   "source": [
    "---"
   ]
  },
  {
   "cell_type": "markdown",
   "metadata": {},
   "source": [
    "## Scrap Work:"
   ]
  },
  {
   "cell_type": "code",
   "execution_count": 39,
   "metadata": {},
   "outputs": [
    {
     "data": {
      "text/plain": [
       "['Hello', 'hEllo', 'heLlo', 'helLo', 'hellO']"
      ]
     },
     "execution_count": 39,
     "metadata": {},
     "output_type": "execute_result"
    }
   ],
   "source": [
    "temp_list = []\n",
    "#counter = 0\n",
    "\n",
    "for i in range(len(example)):\n",
    "    if i == 0:\n",
    "        word = example[i].upper() + example[(i+1):]\n",
    "        temp_list.append(word)\n",
    "    elif i == (len(example)-1):\n",
    "        word = example[:i] + example[(i):].upper()\n",
    "        temp_list.append(word)\n",
    "    else:\n",
    "        word = example[:i] + example[i:(i+1)].upper() + example[(i+1):]\n",
    "        temp_list.append(word)\n",
    "    \n",
    "temp_list"
   ]
  }
 ],
 "metadata": {
  "kernelspec": {
   "display_name": "Python 3",
   "language": "python",
   "name": "python3"
  },
  "language_info": {
   "codemirror_mode": {
    "name": "ipython",
    "version": 3
   },
   "file_extension": ".py",
   "mimetype": "text/x-python",
   "name": "python",
   "nbconvert_exporter": "python",
   "pygments_lexer": "ipython3",
   "version": "3.6.5"
  }
 },
 "nbformat": 4,
 "nbformat_minor": 2
}
