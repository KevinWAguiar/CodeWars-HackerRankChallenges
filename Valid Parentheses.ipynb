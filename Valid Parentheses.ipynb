{
 "cells": [
  {
   "cell_type": "markdown",
   "metadata": {},
   "source": [
    "# Valid Parentheses\n",
    "\n",
    "url:  https://www.codewars.com/kata/valid-parentheses/train/python"
   ]
  },
  {
   "cell_type": "markdown",
   "metadata": {},
   "source": [
    "## My Response:"
   ]
  },
  {
   "cell_type": "code",
   "execution_count": null,
   "metadata": {},
   "outputs": [],
   "source": [
    "def valid_parentheses(string):\n",
    "    import re\n",
    "    temp_string = \"\"\n",
    "\n",
    "    for c in string:\n",
    "        if c == \"(\" or c == \")\":\n",
    "            temp_string += c\n",
    "        else:\n",
    "            continue\n",
    "    \n",
    "    string = temp_string\n",
    "    \n",
    "    return (string.count(\"(\") == string.count(\")\")) & ((string.replace(\"()\", \"\") == \"()\") | (string.replace(\"()\", \"\") == \"\") | (\")(\" not in string.replace(\"()\", \"\")))\n"
   ]
  },
  {
   "cell_type": "markdown",
   "metadata": {},
   "source": [
    "---"
   ]
  },
  {
   "cell_type": "markdown",
   "metadata": {},
   "source": [
    "## Best Practice:"
   ]
  },
  {
   "cell_type": "code",
   "execution_count": null,
   "metadata": {},
   "outputs": [],
   "source": [
    "def valid_parentheses(string):\n",
    "    cnt = 0\n",
    "    for char in string:\n",
    "        if char == '(': cnt += 1\n",
    "        if char == ')': cnt -= 1\n",
    "        if cnt < 0: return False\n",
    "    return True if cnt == 0 else False"
   ]
  },
  {
   "cell_type": "markdown",
   "metadata": {},
   "source": [
    "---"
   ]
  },
  {
   "cell_type": "markdown",
   "metadata": {},
   "source": [
    "## Scrap Work:"
   ]
  },
  {
   "cell_type": "code",
   "execution_count": 60,
   "metadata": {},
   "outputs": [],
   "source": [
    "def valid_parentheses(string):\n",
    "    import re\n",
    "    temp_string = \"\"\n",
    "\n",
    "    for c in string:\n",
    "        if c == \"(\" or c == \")\":\n",
    "            temp_string += c\n",
    "        else:\n",
    "            continue\n",
    "            \n",
    "    string = temp_string\n",
    "    print(string)\n",
    "    \n",
    "    if string == \"\":\n",
    "        return True\n",
    "    else:\n",
    "        return (string.count('(') == string.count(')')) & ((string.count(\")(\") == 0) |(string.count(\")(\") == (string.count(\")\")/2))) & (string.count(\")(\") != string.count(\"()\"))\n",
    "        "
   ]
  },
  {
   "cell_type": "code",
   "execution_count": 100,
   "metadata": {},
   "outputs": [],
   "source": [
    "def valid_parentheses(string):\n",
    "    import re\n",
    "    temp_string = \"\"\n",
    "\n",
    "    for c in string:\n",
    "        if c == \"(\" or c == \")\":\n",
    "            temp_string += c\n",
    "        else:\n",
    "            continue\n",
    "    \n",
    "    string = temp_string\n",
    "    \n",
    "    return (string.count(\"(\") == string.count(\")\")) & ((string.replace(\"()\", \"\") == \"()\") | (string.replace(\"()\", \"\") == \"\") | (\")(\" not in string.replace(\"()\", \"\")))\n"
   ]
  },
  {
   "cell_type": "code",
   "execution_count": 101,
   "metadata": {
    "scrolled": true
   },
   "outputs": [
    {
     "name": "stdout",
     "output_type": "stream",
     "text": [
      "()))\n"
     ]
    },
    {
     "data": {
      "text/plain": [
       "False"
      ]
     },
     "execution_count": 101,
     "metadata": {},
     "output_type": "execute_result"
    }
   ],
   "source": [
    "valid_parentheses(string)"
   ]
  },
  {
   "cell_type": "code",
   "execution_count": 97,
   "metadata": {},
   "outputs": [],
   "source": [
    "string = 'xwkojwjrpq(bsuwkekmq(huroia)l)w))rpltod'"
   ]
  },
  {
   "cell_type": "code",
   "execution_count": 35,
   "metadata": {},
   "outputs": [
    {
     "data": {
      "text/plain": [
       "'()()'"
      ]
     },
     "execution_count": 35,
     "metadata": {},
     "output_type": "execute_result"
    }
   ],
   "source": [
    "temp_string = \"\"\n",
    "\n",
    "for c in string:\n",
    "    if c == \"(\" or c == \")\":\n",
    "        temp_string += c\n",
    "    else:\n",
    "        continue\n",
    "temp_string"
   ]
  },
  {
   "cell_type": "code",
   "execution_count": 21,
   "metadata": {},
   "outputs": [
    {
     "data": {
      "text/plain": [
       "['((((hello',\n",
       " '((((hello',\n",
       " '))hello))))',\n",
       " '))hello))))',\n",
       " '))hello))))',\n",
       " '))hello))))',\n",
       " '))((((ello))))',\n",
       " '))((((hllo))))',\n",
       " '))((((heo))))',\n",
       " '))((((heo))))',\n",
       " '))((((hell))))',\n",
       " '((((hello',\n",
       " '((((hello',\n",
       " '((((hello',\n",
       " '((((hello']"
      ]
     },
     "execution_count": 21,
     "metadata": {},
     "output_type": "execute_result"
    }
   ],
   "source": [
    "[string.replace(x, \"\") for x in string if x != \"(\" or x != \")\"]"
   ]
  },
  {
   "cell_type": "code",
   "execution_count": 17,
   "metadata": {},
   "outputs": [
    {
     "data": {
      "text/plain": [
       "False"
      ]
     },
     "execution_count": 17,
     "metadata": {},
     "output_type": "execute_result"
    }
   ],
   "source": [
    "(string.count('(') == string.count(')')) & (\")(\" not in string)"
   ]
  },
  {
   "cell_type": "code",
   "execution_count": 18,
   "metadata": {},
   "outputs": [
    {
     "data": {
      "text/plain": [
       "False"
      ]
     },
     "execution_count": 18,
     "metadata": {},
     "output_type": "execute_result"
    }
   ],
   "source": [
    "\")(\" not in string"
   ]
  },
  {
   "cell_type": "code",
   "execution_count": null,
   "metadata": {},
   "outputs": [],
   "source": []
  }
 ],
 "metadata": {
  "kernelspec": {
   "display_name": "Python 3",
   "language": "python",
   "name": "python3"
  },
  "language_info": {
   "codemirror_mode": {
    "name": "ipython",
    "version": 3
   },
   "file_extension": ".py",
   "mimetype": "text/x-python",
   "name": "python",
   "nbconvert_exporter": "python",
   "pygments_lexer": "ipython3",
   "version": "3.6.5"
  }
 },
 "nbformat": 4,
 "nbformat_minor": 2
}
