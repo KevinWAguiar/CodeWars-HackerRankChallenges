{
 "cells": [
  {
   "cell_type": "markdown",
   "metadata": {},
   "source": [
    "# Solved - Mini-Max Sum - HackerRank\n",
    "\n",
    "url:  https://www.hackerrank.com/challenges/mini-max-sum/problem"
   ]
  },
  {
   "cell_type": "markdown",
   "metadata": {},
   "source": [
    "## My Response:"
   ]
  },
  {
   "cell_type": "code",
   "execution_count": null,
   "metadata": {},
   "outputs": [],
   "source": [
    "def miniMaxSum(arr):\n",
    "    high_value = []\n",
    "    low_value = []\n",
    "    \n",
    "    for i in arr:\n",
    "        if len(high_value) == 0:\n",
    "            high_value.append(i)\n",
    "        else:\n",
    "            if i >= high_value[0]:\n",
    "                high_value = [i]\n",
    "            else:\n",
    "                continue\n",
    "                \n",
    "    for i in arr:\n",
    "        if len(low_value) == 0:\n",
    "            low_value.append(i)\n",
    "        else:\n",
    "            if i <= low_value[0]:\n",
    "                low_value = [i]\n",
    "            else:\n",
    "                continue\n",
    "    \n",
    "    low_sum = sum(arr) - low_value[0]\n",
    "    high_sum = sum(arr) - high_value[0]\n",
    "    \n",
    "    print(high_sum, low_sum)"
   ]
  },
  {
   "cell_type": "markdown",
   "metadata": {},
   "source": [
    "---"
   ]
  },
  {
   "cell_type": "markdown",
   "metadata": {},
   "source": [
    "## Best Practice:"
   ]
  },
  {
   "cell_type": "code",
   "execution_count": null,
   "metadata": {},
   "outputs": [],
   "source": []
  },
  {
   "cell_type": "markdown",
   "metadata": {},
   "source": [
    "---"
   ]
  },
  {
   "cell_type": "markdown",
   "metadata": {},
   "source": [
    "## Scrap Work:"
   ]
  },
  {
   "cell_type": "code",
   "execution_count": 101,
   "metadata": {},
   "outputs": [],
   "source": [
    "arr = [1,2,3,4,5]"
   ]
  },
  {
   "cell_type": "code",
   "execution_count": 117,
   "metadata": {},
   "outputs": [],
   "source": [
    "def miniMaxSum(arr):\n",
    "    equal_check = []\n",
    "    \n",
    "    for x in arr:\n",
    "        if x in equal_check:\n",
    "            equal \n",
    "    \n",
    "    high = max(arr)\n",
    "    low = min(arr)\n",
    "    \n",
    "    high_dict = {}\n",
    "    low_dict = {}\n",
    "    \n",
    "    for i in arr:\n",
    "        if i in high_dict.keys():\n",
    "            high_dict[str(i)] += 1\n",
    "        else:\n",
    "            high_dict[str(i)] = 1\n",
    "            \n",
    "    for i in arr:\n",
    "        if i  in low_dict.keys():\n",
    "            low_dict[str(i)] += 1\n",
    "        else:\n",
    "            low_dict[str(i)] = 1\n",
    "            \n",
    "    high_dict[str(low)] -= 1\n",
    "    low_dict[str(high)] -= 1\n",
    "\n",
    "    high_value = []\n",
    "    \n",
    "    for k in high_dict.keys():\n",
    "        high_value.append(int(k)*high_dict[k])\n",
    "        \n",
    "    low_value = []\n",
    "    \n",
    "    for k in low_dict.keys():\n",
    "        low_value.append(int(k)*low_dict[k])\n",
    "        \n",
    "    \n",
    "    print(min(arr), max(arr), sum(low_value), low_dict, sum(high_value))"
   ]
  },
  {
   "cell_type": "code",
   "execution_count": null,
   "metadata": {},
   "outputs": [],
   "source": []
  },
  {
   "cell_type": "code",
   "execution_count": null,
   "metadata": {},
   "outputs": [],
   "source": []
  },
  {
   "cell_type": "code",
   "execution_count": 124,
   "metadata": {},
   "outputs": [],
   "source": [
    "def miniMaxSum(arr):\n",
    "    high_value = []\n",
    "    low_value = []\n",
    "    \n",
    "    for i in arr:\n",
    "        if len(high_value) == 0:\n",
    "            high_value.append(i)\n",
    "        else:\n",
    "            if i >= high_value[0]:\n",
    "                high_value = [i]\n",
    "            else:\n",
    "                continue\n",
    "                \n",
    "    for i in arr:\n",
    "        if len(low_value) == 0:\n",
    "            low_value.append(i)\n",
    "        else:\n",
    "            if i <= low_value[0]:\n",
    "                low_value = [i]\n",
    "            else:\n",
    "                continue\n",
    "    \n",
    "    low_sum = sum(arr) - low_value[0]\n",
    "    high_sum = sum(arr) - high_value[0]\n",
    "    \n",
    "    print(high_sum, low_sum)"
   ]
  },
  {
   "cell_type": "code",
   "execution_count": 125,
   "metadata": {},
   "outputs": [
    {
     "name": "stdout",
     "output_type": "stream",
     "text": [
      "20 20\n"
     ]
    }
   ],
   "source": [
    "miniMaxSum([5,5,5,5,5])"
   ]
  },
  {
   "cell_type": "code",
   "execution_count": null,
   "metadata": {},
   "outputs": [],
   "source": []
  },
  {
   "cell_type": "code",
   "execution_count": null,
   "metadata": {},
   "outputs": [],
   "source": []
  },
  {
   "cell_type": "code",
   "execution_count": null,
   "metadata": {},
   "outputs": [],
   "source": []
  },
  {
   "cell_type": "code",
   "execution_count": null,
   "metadata": {},
   "outputs": [],
   "source": []
  },
  {
   "cell_type": "code",
   "execution_count": null,
   "metadata": {},
   "outputs": [],
   "source": []
  }
 ],
 "metadata": {
  "kernelspec": {
   "display_name": "Python 3",
   "language": "python",
   "name": "python3"
  },
  "language_info": {
   "codemirror_mode": {
    "name": "ipython",
    "version": 3
   },
   "file_extension": ".py",
   "mimetype": "text/x-python",
   "name": "python",
   "nbconvert_exporter": "python",
   "pygments_lexer": "ipython3",
   "version": "3.6.5"
  }
 },
 "nbformat": 4,
 "nbformat_minor": 2
}
