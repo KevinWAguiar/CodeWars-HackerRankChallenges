{
 "cells": [
  {
   "cell_type": "markdown",
   "metadata": {},
   "source": [
    "# HackerRank - Counting Valleys\n",
    "\n",
    "url:  https://www.hackerrank.com/challenges/counting-valleys/problem?h_l=interview&playlist_slugs%5B%5D=interview-preparation-kit&playlist_slugs%5B%5D=warmup"
   ]
  },
  {
   "cell_type": "markdown",
   "metadata": {},
   "source": [
    "## My Response:"
   ]
  },
  {
   "cell_type": "code",
   "execution_count": 130,
   "metadata": {},
   "outputs": [],
   "source": [
    "def countingValleys(n, s):\n",
    "    tracker = []\n",
    "    level = 0\n",
    "    \n",
    "    for i in s:\n",
    "        if i == 'D':\n",
    "            level -= 1\n",
    "            tracker.append(level)\n",
    "        else:\n",
    "            level += 1\n",
    "            tracker.append(level)\n",
    "    \n",
    "    indices = [i for i, x in enumerate(tracker) if x == 0]\n",
    "    \n",
    "    valley_count = 0\n",
    "    \n",
    "    # The below if statement before the for loop is to handle any valleys that occurred before\n",
    "    # the first step reaching sea level (the for loop only accounts for the valleys crossed\n",
    "    # after the first step reaching sea level):\n",
    "    \n",
    "    if indices[0] > 0:\n",
    "        #test if previous are all negative, if so add to valley count, if not pass\n",
    "        \n",
    "        if all(x < 0 for x in list(tracker[:(indices[0])])):\n",
    "            valley_count += 1\n",
    "    \n",
    "    # Count the valleys crossed from the first time the hiker reaches sea level until the ultimate time:\n",
    "    \n",
    "    for i in range(len(indices)):\n",
    "              \n",
    "        try:\n",
    "            # Get a list of indices/positions of all of the 0's or steps the hiker\n",
    "            # reaches sea level:\n",
    "            temp_list = tracker[(indices[i]):(indices[(i+1)])]\n",
    "            \n",
    "            # Remove the 0's from the list for formatting purposes:\n",
    "            temp_list.remove(0)\n",
    "            \n",
    "            # Ensure that all numbers between sea level steps are all negative and that\n",
    "            # the hiker wasn't actually crossing a hill:\n",
    "\n",
    "            for i in temp_list:\n",
    "                if i < 0:\n",
    "                    valley = True\n",
    "                else:\n",
    "                    valley = False\n",
    "            \n",
    "            # If all numbers between sea level steps, increase the valley count by 1\n",
    "            # for that means the hiker crossed a valley.  If they weren't all negative\n",
    "            # continue and don't add to the valley count:\n",
    "            \n",
    "            if valley == True:\n",
    "                valley_count += 1\n",
    "            else:\n",
    "                continue\n",
    "\n",
    "        except IndexError:\n",
    "            pass\n",
    "    \n",
    "    # Return the ultimate valley count:\n",
    "    return valley_count"
   ]
  },
  {
   "cell_type": "code",
   "execution_count": 131,
   "metadata": {},
   "outputs": [
    {
     "name": "stdout",
     "output_type": "stream",
     "text": [
      "[-1, -2, -1, 0, -1, -2, -1, -2, -1, 0, 1, 0]\n",
      "[3, 9, 11]\n"
     ]
    },
    {
     "data": {
      "text/plain": [
       "2"
      ]
     },
     "execution_count": 131,
     "metadata": {},
     "output_type": "execute_result"
    }
   ],
   "source": [
    "countingValleys(0,'DDUUDDUDUUUD')"
   ]
  },
  {
   "cell_type": "code",
   "execution_count": 132,
   "metadata": {},
   "outputs": [
    {
     "name": "stdout",
     "output_type": "stream",
     "text": [
      "[1, 0, -1, -2, -1, -2, -1, 0]\n",
      "[1, 7]\n"
     ]
    },
    {
     "data": {
      "text/plain": [
       "1"
      ]
     },
     "execution_count": 132,
     "metadata": {},
     "output_type": "execute_result"
    }
   ],
   "source": [
    "countingValleys(0, 'UDDDUDUU')"
   ]
  },
  {
   "cell_type": "code",
   "execution_count": 133,
   "metadata": {},
   "outputs": [
    {
     "name": "stdout",
     "output_type": "stream",
     "text": [
      "[-1, 0, -1, 0, 1, 2, 3, 4, 5, 6, 7, 6, 7, 6, 5, 6, 7, 6, 7, 8, 7, 6, 5, 6, 7, 6, 5, 4, 3, 2, 3, 4, 3, 4, 5, 6, 7, 6, 5, 4, 5, 6, 7, 8, 9, 10, 11, 10, 9, 10, 9, 10, 9, 10, 11, 12, 11, 10, 9, 8, 9, 10, 9, 8, 7, 8, 7, 6, 5, 4, 5, 6, 5, 4, 5, 4, 3, 4, 5, 6, 5, 6, 7, 8, 7, 8, 9, 8, 9, 8, 9, 8, 7, 6, 5, 4, 3, 2, 1, 0]\n",
      "[1, 3, 99]\n"
     ]
    },
    {
     "data": {
      "text/plain": [
       "2"
      ]
     },
     "execution_count": 133,
     "metadata": {},
     "output_type": "execute_result"
    }
   ],
   "source": [
    "countingValleys(0, 'DUDUUUUUUUUDUDDUUDUUDDDUUDDDDDUUDUUUUDDDUUUUUUUDDUDUDUUUDDDDUUDDDUDDDDUUDDUDDUUUDUUUDUUDUDUDDDDDDDDD')"
   ]
  },
  {
   "cell_type": "code",
   "execution_count": null,
   "metadata": {},
   "outputs": [],
   "source": []
  },
  {
   "cell_type": "markdown",
   "metadata": {},
   "source": [
    "---"
   ]
  },
  {
   "cell_type": "markdown",
   "metadata": {},
   "source": [
    "## Best Practice:"
   ]
  },
  {
   "cell_type": "code",
   "execution_count": null,
   "metadata": {},
   "outputs": [],
   "source": []
  },
  {
   "cell_type": "markdown",
   "metadata": {},
   "source": [
    "---"
   ]
  },
  {
   "cell_type": "markdown",
   "metadata": {},
   "source": [
    "## Scrap Work:"
   ]
  },
  {
   "cell_type": "code",
   "execution_count": 73,
   "metadata": {},
   "outputs": [],
   "source": [
    "def countingValleys(n, s):\n",
    "    tracker = []\n",
    "    level = 0\n",
    "    \n",
    "    for i in s:\n",
    "        if i == 'D':\n",
    "            level -= 1\n",
    "            tracker.append(level)\n",
    "        else:\n",
    "            level += 1\n",
    "            tracker.append(level)\n",
    "    \n",
    "    indices = [i for i, x in enumerate(tracker) if x == 0]\n",
    "    \n",
    "    print(indices)\n",
    "    \n",
    "    valley_count = 0\n",
    "    \n",
    "    for i in range(len(indices)):\n",
    "        try:\n",
    "            #print(tracker[(indices[0]):(indices[1])])\n",
    "            temp_list = tracker[(indices[i]):(indices[(i+1)])]\n",
    "            temp_list.remove(0)\n",
    "            \n",
    "            for i in temp_list:\n",
    "                if i < 0:\n",
    "                    valley = True\n",
    "                else:\n",
    "                    valley = False\n",
    "                    \n",
    "            if valley == True:\n",
    "                valley_count += 1\n",
    "            else:\n",
    "                pass\n",
    "            \n",
    "            print(temp_list)\n",
    "        \n",
    "        except IndexError:\n",
    "            pass\n",
    "           \n",
    "    print(valley_count)        \n",
    "    return tracker"
   ]
  },
  {
   "cell_type": "code",
   "execution_count": 74,
   "metadata": {},
   "outputs": [
    {
     "name": "stdout",
     "output_type": "stream",
     "text": [
      "[1, 7]\n",
      "[-1, -2, -1, -2, -1]\n",
      "1\n"
     ]
    },
    {
     "data": {
      "text/plain": [
       "[1, 0, -1, -2, -1, -2, -1, 0]"
      ]
     },
     "execution_count": 74,
     "metadata": {},
     "output_type": "execute_result"
    }
   ],
   "source": [
    "countingValleys(0, 'UDDDUDUU')"
   ]
  },
  {
   "cell_type": "code",
   "execution_count": 78,
   "metadata": {},
   "outputs": [
    {
     "name": "stdout",
     "output_type": "stream",
     "text": [
      "YEA\n",
      "h\n",
      "i\n",
      "s\n"
     ]
    }
   ],
   "source": [
    "for i in range(len('this')):\n",
    "    if i == 0:\n",
    "        print('YEA')\n",
    "    else:\n",
    "        print('this'[i])"
   ]
  },
  {
   "cell_type": "markdown",
   "metadata": {},
   "source": [
    "---"
   ]
  },
  {
   "cell_type": "code",
   "execution_count": 81,
   "metadata": {},
   "outputs": [],
   "source": [
    "def countingValleys(n, s):\n",
    "    prior_level = 0\n",
    "    \n",
    "    level = 0\n",
    "    \n",
    "    \"\"\"for i in range(len(s)):\n",
    "        if i == 0:\n",
    "            if s[i] == 'D':\n",
    "                prior_level -= 1\n",
    "                level \"\"\"\n",
    "    tracker = []\n",
    "    for i in s:\n",
    "        if i == 'D':\n",
    "            level -= 1\n",
    "            tracker.append(level)\n",
    "        else:\n",
    "            level += 1\n",
    "            tracker.append(level)\n",
    "            \n",
    "    return tracker"
   ]
  },
  {
   "cell_type": "code",
   "execution_count": 82,
   "metadata": {},
   "outputs": [
    {
     "data": {
      "text/plain": [
       "[-1, -2, -1, 0, -1, -2, -1, -2, -1, 0, 1, 0]"
      ]
     },
     "execution_count": 82,
     "metadata": {},
     "output_type": "execute_result"
    }
   ],
   "source": [
    "countingValleys(0, 'DDUUDDUDUUUD')"
   ]
  },
  {
   "cell_type": "code",
   "execution_count": null,
   "metadata": {},
   "outputs": [],
   "source": []
  }
 ],
 "metadata": {
  "kernelspec": {
   "display_name": "Python 3",
   "language": "python",
   "name": "python3"
  },
  "language_info": {
   "codemirror_mode": {
    "name": "ipython",
    "version": 3
   },
   "file_extension": ".py",
   "mimetype": "text/x-python",
   "name": "python",
   "nbconvert_exporter": "python",
   "pygments_lexer": "ipython3",
   "version": "3.6.5"
  }
 },
 "nbformat": 4,
 "nbformat_minor": 2
}
