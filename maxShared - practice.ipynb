{
 "cells": [
  {
   "cell_type": "code",
   "execution_count": 14,
   "metadata": {},
   "outputs": [],
   "source": [
    "friends_from = [1,1,2,2,2]\n",
    "friends_to = [2,2,3,3,4]\n",
    "friends_weight = [2,3,1,3,4]"
   ]
  },
  {
   "cell_type": "code",
   "execution_count": 167,
   "metadata": {
    "scrolled": true
   },
   "outputs": [],
   "source": [
    "def maxShared(friends_nodes, friends_from, friends_to, friends_weight):\n",
    "    import numpy as np\n",
    "    \n",
    "    temp_dict ={}\n",
    "    \n",
    "    for i in range(len(friends_weight)):\n",
    "        if str(friends_weight[i]) in temp_dict.keys():\n",
    "            temp_dict[str(friends_weight[i])].extend([friends_from[i], friends_to[i]])\n",
    "        else:\n",
    "            temp_dict[str(friends_weight[i])] = [friends_from[i], friends_to[i]]\n",
    "    \n",
    "    for k, v in temp_dict.items():\n",
    "        temp_dict[k] = list(set(temp_dict[k]))\n",
    "    \n",
    "    pairs_dict = {}\n",
    "    for k in temp_dict.keys():\n",
    "        for i in range(len(temp_dict[k])):\n",
    "            try:\n",
    "                temp_tuple = (temp_dict[k][i], temp_dict[k][(i+1)])\n",
    "                \n",
    "                if temp_tuple in pairs_dict.keys():\n",
    "                    pairs_dict[temp_tuple] += 1\n",
    "                else:\n",
    "                    pairs_dict[temp_tuple] = 1\n",
    "                \n",
    "            except IndexError:\n",
    "                continue\n",
    "                \n",
    "        print(temp_dict)\n",
    "    \n",
    "    new_max = 0\n",
    "    \n",
    "    for k in pairs_dict.keys():\n",
    "        if pairs_dict[k] > new_max:\n",
    "            new_max = pairs_dict[k]\n",
    "            \n",
    "    temp_list = []\n",
    "    for k, v in pairs_dict.items():\n",
    "        if v == new_max:\n",
    "            temp_list.append(k)\n",
    "            \n",
    "    mult_list = []\n",
    "    ultimate_max = 0\n",
    "    for t in temp_list:\n",
    "        number = (t[0]*t[1])\n",
    "        \n",
    "        if number > ultimate_max:\n",
    "            ultimate_max = number\n",
    "        \n",
    "    return ultimate_max\n",
    "        "
   ]
  },
  {
   "cell_type": "code",
   "execution_count": 168,
   "metadata": {},
   "outputs": [
    {
     "name": "stdout",
     "output_type": "stream",
     "text": [
      "{'2': [1, 2], '3': [1, 2, 3], '1': [2, 3], '4': [2, 4]}\n",
      "{'2': [1, 2], '3': [1, 2, 3], '1': [2, 3], '4': [2, 4]}\n",
      "{'2': [1, 2], '3': [1, 2, 3], '1': [2, 3], '4': [2, 4]}\n",
      "{'2': [1, 2], '3': [1, 2, 3], '1': [2, 3], '4': [2, 4]}\n"
     ]
    },
    {
     "data": {
      "text/plain": [
       "6"
      ]
     },
     "execution_count": 168,
     "metadata": {},
     "output_type": "execute_result"
    }
   ],
   "source": [
    "maxShared(0,friends_from=friends_from, friends_to=friends_to, friends_weight=friends_weight)"
   ]
  },
  {
   "cell_type": "code",
   "execution_count": 169,
   "metadata": {},
   "outputs": [
    {
     "name": "stdout",
     "output_type": "stream",
     "text": [
      "{'1': [1, 3], '2': [1, 2, 3]}\n",
      "{'1': [1, 3], '2': [1, 2, 3]}\n"
     ]
    },
    {
     "data": {
      "text/plain": [
       "6"
      ]
     },
     "execution_count": 169,
     "metadata": {},
     "output_type": "execute_result"
    }
   ],
   "source": [
    "maxShared(0, friends_from=[1,1,2], friends_to=[3,3,3], friends_weight=[1,2,2])"
   ]
  },
  {
   "cell_type": "code",
   "execution_count": null,
   "metadata": {},
   "outputs": [],
   "source": []
  },
  {
   "cell_type": "code",
   "execution_count": null,
   "metadata": {},
   "outputs": [],
   "source": []
  },
  {
   "cell_type": "code",
   "execution_count": null,
   "metadata": {},
   "outputs": [],
   "source": []
  },
  {
   "cell_type": "code",
   "execution_count": null,
   "metadata": {},
   "outputs": [],
   "source": []
  },
  {
   "cell_type": "code",
   "execution_count": null,
   "metadata": {},
   "outputs": [],
   "source": [
    "def maxShared(friends_nodes, friends_from, friends_to, friends_weight):\n",
    "    temp_dict ={}\n",
    "    \n",
    "    for i in range(len(friends_weight)):\n",
    "        if str(friends_weight[i]) in temp_dict.keys():\n",
    "            temp_dict[str(friends_weight[i])]"
   ]
  }
 ],
 "metadata": {
  "kernelspec": {
   "display_name": "Python 3",
   "language": "python",
   "name": "python3"
  },
  "language_info": {
   "codemirror_mode": {
    "name": "ipython",
    "version": 3
   },
   "file_extension": ".py",
   "mimetype": "text/x-python",
   "name": "python",
   "nbconvert_exporter": "python",
   "pygments_lexer": "ipython3",
   "version": "3.6.5"
  }
 },
 "nbformat": 4,
 "nbformat_minor": 2
}
